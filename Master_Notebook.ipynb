{
  "cells": [
    {
      "cell_type": "markdown",
      "metadata": {
        "id": "lrSLZum5jCQO"
      },
      "source": [
        "# Setup Notebook"
      ]
    },
    {
      "cell_type": "code",
      "execution_count": null,
      "metadata": {
        "id": "hhR5hh4Hi7Xy"
      },
      "outputs": [],
      "source": [
        "#@markdown import libraries\n",
        "import os\n",
        "import sys\n",
        "import json\n",
        "import logging\n",
        "\n",
        "import ipywidgets as widgets\n",
        "from IPython.display import display\n",
        "import matplotlib.pyplot as plt\n",
        "import matplotlib.image as mpimg\n",
        "\n",
        "import sqlalchemy as sqla\n",
        "from sqlalchemy import create_engine\n",
        "from sqlalchemy.orm import Session"
      ]
    },
    {
      "cell_type": "markdown",
      "metadata": {
        "id": "yj8O2HtWjRXE"
      },
      "source": [
        "# Setup Cloud Database"
      ]
    },
    {
      "cell_type": "code",
      "execution_count": null,
      "metadata": {
        "id": "4ItXMpvBdOrr"
      },
      "outputs": [],
      "source": [
        "from google.colab import auth\n",
        "\n",
        "auth.authenticate_user()"
      ]
    },
    {
      "cell_type": "markdown",
      "metadata": {
        "id": "cXznlQzuQzn_"
      },
      "source": [
        "# Setup Google Cloud Project"
      ]
    },
    {
      "cell_type": "code",
      "execution_count": null,
      "metadata": {
        "colab": {
          "base_uri": "https://localhost:8080/"
        },
        "id": "fG8xCbGNqbM7",
        "outputId": "69e3f342-a737-41e0-91d7-0668bbf8a649"
      },
      "outputs": [
        {
          "output_type": "stream",
          "name": "stdout",
          "text": [
            "Updated property [core/project].\n"
          ]
        }
      ],
      "source": [
        "#@markdown Please enter your GCP Project ID\n",
        "project_id = \"locust-early-warning\" #@param {type:\"string\"}\n",
        "assert project_id, \"Please enter your Google Project ID to continue\"\n",
        "!gcloud config set project {project_id}"
      ]
    },
    {
      "cell_type": "code",
      "execution_count": null,
      "metadata": {
        "colab": {
          "base_uri": "https://localhost:8080/"
        },
        "id": "JywC3daOeYbC",
        "outputId": "de620d1f-c767-4760-c360-d2a17fdcd032"
      },
      "outputs": [
        {
          "output_type": "stream",
          "name": "stdout",
          "text": [
            "Active User Account:  k.panford-quainoo@instadeep.com\n",
            "Updated IAM policy for project [locust-early-warning].\n",
            "bindings:\n",
            "- members:\n",
            "  - serviceAccount:skai-data-labeling@locust-early-warning.iam.gserviceaccount.com\n",
            "  role: projects/locust-early-warning/roles/CustomRole\n",
            "- members:\n",
            "  - serviceAccount:service-835848499535@gcp-sa-aiplatform-cc.iam.gserviceaccount.com\n",
            "  - serviceAccount:skai-93@locust-early-warning.iam.gserviceaccount.com\n",
            "  role: roles/aiplatform.customCodeServiceAgent\n",
            "- members:\n",
            "  - serviceAccount:service-835848499535@gcp-sa-aiplatform.iam.gserviceaccount.com\n",
            "  - serviceAccount:skai-93@locust-early-warning.iam.gserviceaccount.com\n",
            "  role: roles/aiplatform.serviceAgent\n",
            "- members:\n",
            "  - user:a.pretorius@instadeep.com\n",
            "  - user:ababiker@google.com\n",
            "  - user:hectoramoah@google.com\n",
            "  - user:i.yusuf@instadeep.com\n",
            "  - user:jyh@google.com\n",
            "  - user:m.moussa@instadeep.com\n",
            "  - user:perrynelson@google.com\n",
            "  - user:s.morjane@instadeep.com\n",
            "  - user:t.tumiel@instadeep.com\n",
            "  role: roles/aiplatform.tensorboardWebAppUser\n",
            "- members:\n",
            "  - serviceAccount:skai-93@locust-early-warning.iam.gserviceaccount.com\n",
            "  - serviceAccount:xmanager@locust-early-warning.iam.gserviceaccount.com\n",
            "  role: roles/aiplatform.user\n",
            "- members:\n",
            "  - serviceAccount:service-835848499535@gcp-sa-artifactregistry.iam.gserviceaccount.com\n",
            "  role: roles/artifactregistry.serviceAgent\n",
            "- members:\n",
            "  - serviceAccount:835848499535@cloudbuild.gserviceaccount.com\n",
            "  - serviceAccount:skai-93@locust-early-warning.iam.gserviceaccount.com\n",
            "  role: roles/cloudbuild.builds.builder\n",
            "- members:\n",
            "  - serviceAccount:service-835848499535@gcp-sa-cloudbuild.iam.gserviceaccount.com\n",
            "  - serviceAccount:skai-93@locust-early-warning.iam.gserviceaccount.com\n",
            "  role: roles/cloudbuild.serviceAgent\n",
            "- members:\n",
            "  - serviceAccount:service-835848499535@gcp-sa-cloudscheduler.iam.gserviceaccount.com\n",
            "  role: roles/cloudscheduler.serviceAgent\n",
            "- members:\n",
            "  - user:k.panford-quainoo@instadeep.com\n",
            "  role: roles/cloudsql.client\n",
            "- members:\n",
            "  - user:k.panford-quainoo@instadeep.com\n",
            "  role: roles/cloudsql.instanceUser\n",
            "- members:\n",
            "  - serviceAccount:service-835848499535@compute-system.iam.gserviceaccount.com\n",
            "  - serviceAccount:skai-93@locust-early-warning.iam.gserviceaccount.com\n",
            "  role: roles/compute.serviceAgent\n",
            "- members:\n",
            "  - user:ababiker@google.com\n",
            "  role: roles/compute.viewer\n",
            "- members:\n",
            "  - serviceAccount:service-835848499535@container-engine-robot.iam.gserviceaccount.com\n",
            "  role: roles/container.serviceAgent\n",
            "- members:\n",
            "  - serviceAccount:service-835848499535@containerregistry.iam.gserviceaccount.com\n",
            "  - serviceAccount:skai-93@locust-early-warning.iam.gserviceaccount.com\n",
            "  role: roles/containerregistry.ServiceAgent\n",
            "- members:\n",
            "  - serviceAccount:service-835848499535@gcp-sa-ktd-control.iam.gserviceaccount.com\n",
            "  role: roles/containerthreatdetection.serviceAgent\n",
            "- members:\n",
            "  - serviceAccount:835848499535-compute@developer.gserviceaccount.com\n",
            "  - serviceAccount:skai-dataflow2@locust-early-warning.iam.gserviceaccount.com\n",
            "  - serviceAccount:skai-dataflow@locust-early-warning.iam.gserviceaccount.com\n",
            "  role: roles/dataflow.admin\n",
            "- members:\n",
            "  - serviceAccount:service-835848499535@dataflow-service-producer-prod.iam.gserviceaccount.com\n",
            "  - serviceAccount:skai-93@locust-early-warning.iam.gserviceaccount.com\n",
            "  role: roles/dataflow.serviceAgent\n",
            "- members:\n",
            "  - serviceAccount:835848499535-compute@developer.gserviceaccount.com\n",
            "  - serviceAccount:skai-dataflow2@locust-early-warning.iam.gserviceaccount.com\n",
            "  - serviceAccount:skai-dataflow@locust-early-warning.iam.gserviceaccount.com\n",
            "  role: roles/dataflow.worker\n",
            "- members:\n",
            "  - serviceAccount:service-835848499535@gcp-sa-datapipelines.iam.gserviceaccount.com\n",
            "  role: roles/datapipelines.serviceAgent\n",
            "- members:\n",
            "  - serviceAccount:835848499535-compute@developer.gserviceaccount.com\n",
            "  - serviceAccount:835848499535@cloudservices.gserviceaccount.com\n",
            "  - serviceAccount:skai-93@locust-early-warning.iam.gserviceaccount.com\n",
            "  - user:ababiker@google.com\n",
            "  - user:hectoramoah@google.com\n",
            "  - user:i.yusuf@instadeep.com\n",
            "  - user:jyh@google.com\n",
            "  - user:m.moussa@instadeep.com\n",
            "  - user:perrynelson@google.com\n",
            "  - user:s.morjane@instadeep.com\n",
            "  - user:t.tumiel@instadeep.com\n",
            "  role: roles/editor\n",
            "- members:\n",
            "  - serviceAccount:skai-data-labeling@locust-early-warning.iam.gserviceaccount.com\n",
            "  role: roles/iam.serviceAccountTokenCreator\n",
            "- members:\n",
            "  - serviceAccount:skai-dataflow2@locust-early-warning.iam.gserviceaccount.com\n",
            "  - serviceAccount:skai-dataflow@locust-early-warning.iam.gserviceaccount.com\n",
            "  role: roles/iam.serviceAccountUser\n",
            "- members:\n",
            "  - serviceAccount:service-835848499535@gcp-sa-notebooks.iam.gserviceaccount.com\n",
            "  role: roles/notebooks.serviceAgent\n",
            "- members:\n",
            "  - user:a.pretorius@instadeep.com\n",
            "  role: roles/owner\n",
            "- members:\n",
            "  - serviceAccount:service-835848499535@gcp-sa-pubsub.iam.gserviceaccount.com\n",
            "  - serviceAccount:skai-93@locust-early-warning.iam.gserviceaccount.com\n",
            "  role: roles/pubsub.serviceAgent\n",
            "- members:\n",
            "  - serviceAccount:service-835848499535@serverless-robot-prod.iam.gserviceaccount.com\n",
            "  role: roles/run.serviceAgent\n",
            "- members:\n",
            "  - serviceAccount:835848499535-compute@developer.gserviceaccount.com\n",
            "  - serviceAccount:mohamedamine@locust-early-warning.iam.gserviceaccount.com\n",
            "  - serviceAccount:skai-93@locust-early-warning.iam.gserviceaccount.com\n",
            "  - serviceAccount:skai-dataflow2@locust-early-warning.iam.gserviceaccount.com\n",
            "  - serviceAccount:skai-dataflow@locust-early-warning.iam.gserviceaccount.com\n",
            "  - serviceAccount:xmanager@locust-early-warning.iam.gserviceaccount.com\n",
            "  role: roles/storage.admin\n",
            "- members:\n",
            "  - serviceAccount:isyusuf@locust-early-warning.iam.gserviceaccount.com\n",
            "  - serviceAccount:mohamedamine@locust-early-warning.iam.gserviceaccount.com\n",
            "  - serviceAccount:skai-93@locust-early-warning.iam.gserviceaccount.com\n",
            "  - serviceAccount:skai-dataflow2@locust-early-warning.iam.gserviceaccount.com\n",
            "  - serviceAccount:skai-dataflow@locust-early-warning.iam.gserviceaccount.com\n",
            "  role: roles/storage.objectAdmin\n",
            "- members:\n",
            "  - serviceAccount:skai-data-labeling@locust-early-warning.iam.gserviceaccount.com\n",
            "  role: roles/storage.objectViewer\n",
            "- members:\n",
            "  - serviceAccount:service-835848499535@gcp-sa-storageinsights.iam.gserviceaccount.com\n",
            "  role: roles/storageinsights.serviceAgent\n",
            "- members:\n",
            "  - serviceAccount:service-835848499535@gcp-sa-websecurityscanner.iam.gserviceaccount.com\n",
            "  role: roles/websecurityscanner.serviceAgent\n",
            "etag: BwYWSD-gt5Q=\n",
            "version: 1\n"
          ]
        }
      ],
      "source": [
        "#@markdown Set IAM policy binding\n",
        "user_account = !gcloud auth list --filter=status:ACTIVE --format=\"value(account)\"\n",
        "print(\"Active User Account: \", user_account[0])\n",
        "\n",
        "!gcloud projects add-iam-policy-binding {project_id} \\\n",
        "  --member=user:{user_account[0]} \\\n",
        "  --role=\"roles/cloudsql.client\""
      ]
    },
    {
      "cell_type": "code",
      "execution_count": null,
      "metadata": {
        "id": "Vkq74dTxRkyK"
      },
      "outputs": [],
      "source": [
        "# enable Cloud SQL Admin API\n",
        "!gcloud services enable sqladmin.googleapis.com"
      ]
    },
    {
      "cell_type": "code",
      "execution_count": null,
      "metadata": {
        "colab": {
          "base_uri": "https://localhost:8080/"
        },
        "id": "7PJodGPYIOGd",
        "outputId": "dcd886a3-30e1-4eed-a193-6d564b04b510",
        "cellView": "form"
      },
      "outputs": [
        {
          "output_type": "stream",
          "name": "stdout",
          "text": [
            "Found existing Postgres Cloud SQL Instance!\n"
          ]
        }
      ],
      "source": [
        "#@title Create Cloud SQL Instance\n",
        "\n",
        "#@markdown Please fill in the both the Google Cloud region and name of your Cloud SQL instance. Once filled in, run the cell.\n",
        "\n",
        "# Please fill in these values.\n",
        "region = \"us-central1\" #@param {type:\"string\"}\n",
        "instance_name = \"my-test-db\" #@param {type:\"string\"}\n",
        "\n",
        "assert region, \"Please enter a Google Cloud region\"\n",
        "assert instance_name, \"Please enter the name of your instance\"\n",
        "\n",
        "# check if Cloud SQL instance exists in the provided region\n",
        "database_version = !gcloud sql instances describe {instance_name} --format=\"value(databaseVersion)\"\n",
        "if database_version[0].startswith(\"POSTGRES\"):\n",
        "  print(\"Found existing Postgres Cloud SQL Instance!\")\n",
        "else:\n",
        "  print(\"Creating new Cloud SQL instance...\")\n",
        "  password = input(\"Please provide a password to be used for 'postgres' database user: \")\n",
        "  !gcloud sql instances create {instance_name} --database-version=POSTGRES_15 \\\n",
        "    --region={region} --cpu=1 --memory=4GB --root-password={password} \\\n",
        "    --database-flags=cloudsql.iam_authentication=On\n"
      ]
    },
    {
      "cell_type": "code",
      "execution_count": null,
      "metadata": {
        "colab": {
          "base_uri": "https://localhost:8080/"
        },
        "id": "FeBx5tVomi1x",
        "outputId": "dc05d9da-8e33-4133-d29f-378adfc3ca1b"
      },
      "outputs": [
        {
          "output_type": "stream",
          "name": "stdout",
          "text": [
            "Instance Connection Name:  locust-early-warning:us-central1:my-test-db\n"
          ]
        }
      ],
      "source": [
        "instance_connection_name = f\"{project_id}:{region}:{instance_name}\"\n",
        "print(\"Instance Connection Name: \", instance_connection_name)"
      ]
    },
    {
      "cell_type": "markdown",
      "metadata": {
        "id": "kh4_Q98IjVEP"
      },
      "source": [
        "# Create Database"
      ]
    },
    {
      "cell_type": "code",
      "execution_count": null,
      "metadata": {
        "colab": {
          "base_uri": "https://localhost:8080/"
        },
        "id": "ySb_nHWF1h13",
        "outputId": "2a998f12-c8c1-4189-82b1-1a49f92af57e"
      },
      "outputs": [
        {
          "output_type": "stream",
          "name": "stdout",
          "text": [
            "\u001b[1;31mERROR:\u001b[0m (gcloud.sql.databases.create) HTTPError 400: Invalid request: failed to create database ann-otate. Detail: pq: database \"ann-otate\" already exists.\n"
          ]
        }
      ],
      "source": [
        "#@markdown Please Enter database name to create\n",
        "database_name = \"ann-otate\" #@param {type: \"string\"}\n",
        "assert database_name, \"Please enter a name for the database to be created\"\n",
        "\n",
        "!gcloud sql databases create {database_name} --instance={instance_name}"
      ]
    },
    {
      "cell_type": "code",
      "execution_count": null,
      "metadata": {
        "colab": {
          "base_uri": "https://localhost:8080/"
        },
        "id": "ySqpBEQwKpSF",
        "outputId": "41343935-c697-4bd3-dbd8-09c4764c837c"
      },
      "outputs": [
        {
          "output_type": "stream",
          "name": "stdout",
          "text": [
            "\u001b[2K     \u001b[90m━━━━━━━━━━━━━━━━━━━━━━━━━━━━━━━━━━━━━━━━\u001b[0m \u001b[32m54.2/54.2 kB\u001b[0m \u001b[31m3.2 MB/s\u001b[0m eta \u001b[36m0:00:00\u001b[0m\n",
            "\u001b[2K     \u001b[90m━━━━━━━━━━━━━━━━━━━━━━━━━━━━━━━━━━━━━━━━\u001b[0m \u001b[32m105.0/105.0 kB\u001b[0m \u001b[31m8.4 MB/s\u001b[0m eta \u001b[36m0:00:00\u001b[0m\n",
            "\u001b[?25h"
          ]
        }
      ],
      "source": [
        "#@title Install Cloud SQL connector\n",
        "!{sys.executable} -m pip install -q cloud-sql-python-connector[\"pg8000\"]"
      ]
    },
    {
      "cell_type": "markdown",
      "metadata": {
        "id": "7CqtN30NY_D7"
      },
      "source": [
        "# Database"
      ]
    },
    {
      "cell_type": "code",
      "execution_count": null,
      "metadata": {
        "id": "YyfRU1HzZDJn",
        "cellView": "form"
      },
      "outputs": [],
      "source": [
        "#@markdown Run this cell\n",
        "import reprlib\n",
        "from datetime import datetime\n",
        "from typing import List\n",
        "import sqlalchemy as sqla\n",
        "from sqlalchemy.orm import mapped_column\n",
        "from sqlalchemy.orm import Mapped\n",
        "from sqlalchemy.orm import relationship\n",
        "from sqlalchemy.orm import declarative_base\n",
        "\n",
        "Base = declarative_base()\n",
        "\n",
        "class ProjectConfigurations(Base):\n",
        "  __tablename__ = 'project_configurations'\n",
        "\n",
        "  project_id: Mapped[int] = mapped_column(sqla.Integer, primary_key=True, autoincrement=True)\n",
        "  project_title: Mapped[str] = mapped_column(sqla.String(255))\n",
        "  cloud_bucket_name: Mapped[str] = mapped_column(sqla.String(255))\n",
        "  cloud_bucket_prefix: Mapped[str] = mapped_column(sqla.String(255))\n",
        "  comma_separated_labels: Mapped[str] = mapped_column(sqla.String(255))\n",
        "  max_annotation_per_example: Mapped[int] = mapped_column(sqla.Integer)\n",
        "  completion_deadline = mapped_column(sqla.TIMESTAMP, default=datetime.utcnow)\n",
        "  created_at = mapped_column(sqla.TIMESTAMP, default=datetime.utcnow)\n",
        "\n",
        "  def __repr__(self)-> str:\n",
        "    return (f'Project Configurations\\n{\"*\" * 26} \\n' +\n",
        "            # f'project_id={self.project_id!r}\\n' +\n",
        "            f'project title={self.project_title!r}\\n' +\n",
        "            f'cloud_bucket_name={self.cloud_bucket_name!r}\\n' +\n",
        "            f'cloud_bucket_prefix={self.cloud_bucket_prefix!r}\\n' +\n",
        "            f'comma_separated_labels={self.comma_separated_labels!r}\\n' +\n",
        "            f'max_annotation_per_example={self.max_annotation_per_example!r}\\n' +\n",
        "            f'completion_deadline={self.completion_deadline!r}\\n' +\n",
        "            f'project creation date={self.created_at!r}')\n",
        "\n",
        "\n",
        "class Annotator(Base):\n",
        "  __tablename__ = 'annotators'\n",
        "\n",
        "  annotator_id: Mapped[int] = mapped_column(sqla.Integer, primary_key=True,\n",
        "                                            nullable=False, autoincrement=True)\n",
        "  username: Mapped[str] = mapped_column(sqla.String(255))\n",
        "  email: Mapped[str] = mapped_column(sqla.String(255), nullable=True)\n",
        "\n",
        "  annotations = relationship(\"Annotation\", back_populates=\"annotator\")\n",
        "  assigned_annotators = relationship(\"AssignedAnnotator\", back_populates=\"annotator\")\n",
        "\n",
        "  def __repr__(self)-> str:\n",
        "    return (f'Annotator(annotator_id={self.annotator_id!r},' +\n",
        "            f'username={self.username!r}, ' +\n",
        "            f'email={self.email!r}')\n",
        "\n",
        "\n",
        "class Annotation(Base):\n",
        "  __tablename__ = 'annotations'\n",
        "\n",
        "  annotation_id: Mapped[int] = mapped_column(sqla.Integer, primary_key=True, autoincrement=True)\n",
        "  label: Mapped[str] = mapped_column(sqla.String(60), nullable=False)\n",
        "  example_id: Mapped[str] = mapped_column(sqla.String(255), sqla.ForeignKey('examples.example_id'), nullable=False)\n",
        "  example: Mapped['Example'] = relationship(\"Example\", back_populates='annotations')\n",
        "\n",
        "  annotator_id: Mapped[int] = mapped_column(sqla.Integer, sqla.ForeignKey('annotators.annotator_id'), nullable=False)\n",
        "  annotator: Mapped['Annotator'] = relationship(\"Annotator\", back_populates='annotations')\n",
        "\n",
        "  def __repr__(self)-> str:\n",
        "    return (f'Annotation(annotation_id={self.annotation_id!r},' +\n",
        "            f'label={self.label!r}, ' +\n",
        "            f'annotator={reprlib.repr(self.annotator)}')\n",
        "\n",
        "\n",
        "class Example(Base):\n",
        "  __tablename__ = 'examples'\n",
        "\n",
        "  example_id: Mapped[str] = mapped_column(sqla.String(255), nullable=False, primary_key=True)\n",
        "  image_path: Mapped[str] = mapped_column(sqla.String(255), nullable=False)\n",
        "\n",
        "  annotations: Mapped[List['Annotation']] = relationship(\"Annotation\", back_populates=\"example\")\n",
        "  assigned_annotators: Mapped[List['AssignedAnnotator']] = relationship(\"AssignedAnnotator\", back_populates=\"example\")\n",
        "\n",
        "  def __repr__(self)-> str:\n",
        "    return (f'Example(example_id={self.example_id!r},' +\n",
        "            f'image_path={self.image_path!r}, ' +\n",
        "            f'annotations={reprlib.repr(self.annotations)}')\n",
        "\n",
        "\n",
        "class AssignedAnnotator(Base):\n",
        "  __tablename__ = 'assigned_annotators'\n",
        "\n",
        "  assignment_id: Mapped[int] = mapped_column(sqla.Integer, primary_key=True, autoincrement=True)\n",
        "  example_id: Mapped[str] = mapped_column(sqla.String(255), sqla.ForeignKey('examples.example_id'), nullable=False)\n",
        "  annotator_id: Mapped[int] = mapped_column(sqla.Integer, sqla.ForeignKey('annotators.annotator_id'), nullable=False)\n",
        "\n",
        "  example: Mapped['Example'] = relationship(\"Example\", back_populates=\"assigned_annotators\")\n",
        "  annotator: Mapped['Annotator'] = relationship(\"Annotator\", back_populates=\"assigned_annotators\")\n",
        "\n",
        "  def __repr__(self)-> str:\n",
        "    return (f'AssignedAnnotator(assignment_id={self.assignment_id!r}, ' +\n",
        "            f'example_id={self.example_id!r}, ' +\n",
        "            f'annotator_id={self.annotator_id}')"
      ]
    },
    {
      "cell_type": "code",
      "execution_count": null,
      "metadata": {
        "id": "Td8nYsppkJNN",
        "cellView": "form"
      },
      "outputs": [],
      "source": [
        "#@title Task Manager\n",
        "\n",
        "#@markdown Setup_lib.py\n",
        "import pandas as pd\n",
        "from sqlalchemy import create_engine\n",
        "from sqlalchemy.orm import sessionmaker\n",
        "from sqlalchemy.orm import scoped_session\n",
        "from sqlalchemy import exc\n",
        "from sqlalchemy.sql import text\n",
        "from google.cloud.sql.connector import Connector\n",
        "\n",
        "class DatabaseManager:\n",
        "  def __init__(\n",
        "      self,\n",
        "      username: str,\n",
        "      password: str,\n",
        "      db_name: str,\n",
        "      instance_connection_name: str,\n",
        "      **kwargs: dict):\n",
        "\n",
        "    self.username = username\n",
        "    self.password = password\n",
        "    self.db_name = db_name\n",
        "    self.instance_connection_name = instance_connection_name\n",
        "\n",
        "    self.kwargs = kwargs\n",
        "    self._engine = None\n",
        "    self._session = None\n",
        "\n",
        "  def setup(self):\n",
        "    connector = Connector()\n",
        "    def getconn():\n",
        "      conn = connector.connect(\n",
        "          self.instance_connection_name,\n",
        "          \"pg8000\",\n",
        "          user=self.username,\n",
        "          password=self.password,\n",
        "          db=self.db_name\n",
        "      )\n",
        "      return conn\n",
        "\n",
        "    self._engine = sqla.create_engine(\n",
        "    \"postgresql+pg8000://\",\n",
        "    creator=getconn,\n",
        "    )\n",
        "    Base.metadata.bind = self._engine\n",
        "    try:\n",
        "      Base.metadata.create_all(self._engine)\n",
        "    except exc.ProgrammingError as e:\n",
        "      raise # 'Error creating Database'\n",
        "\n",
        "    session_factory = sessionmaker(autocommit=False, autoflush=False, bind=self._engine)\n",
        "    self._session = scoped_session(session_factory)\n",
        "\n",
        "    Base.query = self._session.query_property()\n",
        "    logging.info(\"Database Manager Initialized\")\n",
        "\n",
        "  def get_session(self):\n",
        "    return self._session\n",
        "\n",
        "\n",
        "class TaskManager:\n",
        "  def __init__(self, db_configs) -> None:\n",
        "    self.db_configs = db_configs\n",
        "    self._database_manager = None\n",
        "    self._task_configs = None\n",
        "    pass\n",
        "\n",
        "  def init(self):\n",
        "    self._database_manager = DatabaseManager(**self.db_configs)\n",
        "    self._database_manager.setup()\n",
        "    pass\n",
        "\n",
        "  def add_tasks_from_csv(self, csv_path: str):\n",
        "    '''\n",
        "    Adding Tasks from CSV metadata\n",
        "    Args:\n",
        "      csv_path: path to CSV file with metadata\n",
        "    Return:\n",
        "      None\n",
        "    '''\n",
        "    tasks_df = pd.read_csv(csv_path)\n",
        "    session = self._database_manager.get_session()\n",
        "\n",
        "    for _, row in tasks_df.iterrows():\n",
        "      example_id = row['example_id']\n",
        "      existing_task = session.query(Example).filter_by(example_id=str(example_id)).first()\n",
        "\n",
        "      if existing_task is None:\n",
        "        task = Example(example_id=example_id, image_path=row['image'])\n",
        "        session.add(task)\n",
        "        session.commit()\n",
        "      else:\n",
        "        logging.info(f\"Task with example_id '{example_id}' already exists. Skipping.\")\n",
        "    logging.info(\"\\n\")\n",
        "\n",
        "  def set_project_configs(\n",
        "      self,\n",
        "      project_title: str = None,\n",
        "      cloud_bucket_name: str = None,\n",
        "      cloud_bucket_prefix: str = None,\n",
        "      comma_separated_labels: str = None,\n",
        "      max_annotators_per_example: str = None,\n",
        "      completion_deadline: datetime = None\n",
        "      )-> None:\n",
        "\n",
        "    assert project_title, 'Please Enter project title'\n",
        "    assert cloud_bucket_name, 'Please Enter source bucket name'\n",
        "    assert comma_separated_labels, 'Please Enter task labels'\n",
        "\n",
        "    session = self._database_manager.get_session()\n",
        "    existing_config = session.query(ProjectConfigurations).filter_by(project_id=1).first()\n",
        "\n",
        "    if existing_config:\n",
        "      if project_title: existing_config.project_title = project_title\n",
        "      if cloud_bucket_name: existing_config.cloud_bucket_name = cloud_bucket_name\n",
        "      if cloud_bucket_prefix: existing_config.cloud_bucket_prefix = cloud_bucket_prefix\n",
        "      if comma_separated_labels: existing_config.comma_separated_labels = comma_separated_labels\n",
        "      if max_annotators_per_example: existing_config.max_annotation_per_example = max_annotators_per_example\n",
        "      if completion_deadline: existing_config.completion_deadline = completion_deadline\n",
        "\n",
        "    else:\n",
        "      project_configs = ProjectConfigurations(\n",
        "        project_title=project_title,\n",
        "        cloud_bucket_name=cloud_bucket_name,\n",
        "        cloud_bucket_prefix=cloud_bucket_prefix,\n",
        "        comma_separated_labels=comma_separated_labels,\n",
        "        max_annotation_per_example=max_annotators_per_example\n",
        "      )\n",
        "      session.add(project_configs)\n",
        "    session.commit()\n",
        "\n",
        "  def assign_tasks(self, max_annotators_per_example):\n",
        "    # Get all available examples and available annotators\n",
        "    # Assign examples to annotators such that each example\n",
        "    # is assigned up to a MAX_ANNOTATORS_PER_TASK number of times\n",
        "\n",
        "    session = self._database_manager.get_session()\n",
        "    assignments = []\n",
        "\n",
        "    # Query humans and tasks\n",
        "    annotators = session.query(Annotator).all()\n",
        "    examples = session.query(Example).all()\n",
        "    num_annotators = len(annotators)\n",
        "    num_examples = len(examples)\n",
        "\n",
        "    # Round Robin Assignment Algorithm\n",
        "\n",
        "    for i in range(num_examples):\n",
        "      example = examples[i]\n",
        "      for j in range(max_annotators_per_example):\n",
        "        annotator = annotators[(i * max_annotators_per_example + j) % num_annotators]\n",
        "        assignments.append(\n",
        "          AssignedAnnotator(annotator_id=annotator.annotator_id,\n",
        "            example_id=example.example_id)\n",
        "            )\n",
        "    session.add_all(assignments)\n",
        "    session.commit()\n",
        "    return assignments\n",
        "\n",
        "  def show_assignments(self, limit=None):\n",
        "    session = self._database_manager.get_session()\n",
        "    assigned_annotators = session.query(AssignedAnnotator).all()\n",
        "\n",
        "    limit = limit or len(assigned_annotators)\n",
        "    for assigned_annotator in assigned_annotators[:limit]:\n",
        "      print(f'Example ID: {assigned_annotator.example_id}, assigned to Annotator: {assigned_annotator.annotator.username}')\n",
        "\n",
        "  def get_task_assignments(self):\n",
        "    session = self._database_manager.get_session()\n",
        "    results = sqla.select(\n",
        "      Example.example_id, Example.image_path, Annotator.username\n",
        "    ).join(Annotator)\n",
        "    return results.all()\n",
        "\n",
        "  def get_partially_assigned_tasks(self):\n",
        "    '''Get tasks that have partially been assigned'''\n",
        "    session = self._database_manager.get_session()\n",
        "    partially_labeled_tasks = (\n",
        "      session.query(Example)\n",
        "      .outerjoin(Example.annotations)\n",
        "      .group_by(Example.example_id)\n",
        "      # .having(sqla.func.count(Annotator.id) < self.tasks_configs.max_annotators_per_task)\n",
        "      .all()\n",
        "    )\n",
        "    return partially_labeled_tasks\n",
        "\n",
        "  def add_annotators(self, annotators):\n",
        "    session = self._database_manager.get_session()\n",
        "\n",
        "    for annotator_data in annotators:\n",
        "      username = annotator_data.get('username')\n",
        "      email = annotator_data.get('email')\n",
        "\n",
        "      existing_annotator = session.query(Annotator).filter_by(username=username).first()\n",
        "\n",
        "      if existing_annotator is None:\n",
        "        annotator = Annotator(username=username, email=email)\n",
        "        try:\n",
        "          session.add(annotator)\n",
        "          session.commit()\n",
        "          logging.info(f\"Added new annotator '{username}'\")\n",
        "        except Exception as e:\n",
        "          session.rollback()\n",
        "          logging.error(f\"Error adding annotator '{username}': {e}\")\n",
        "      else:\n",
        "        logging.warning(f\"Annotator with username '{username}' already exists\")\n",
        "\n",
        "\n",
        "  def get_assigned_tasks(self, username):\n",
        "    session = self._database_manager.get_session()\n",
        "\n",
        "    results = session.query(Example).\\\n",
        "      join(AssignedAnnotator, Example.example_id == AssignedAnnotator.example_id).\\\n",
        "      join(Annotator, AssignedAnnotator.annotator_id == Annotator.annotator_id).\\\n",
        "      filter(Annotator.username == username).all()\n",
        "\n",
        "    return results\n",
        "\n",
        "  def list_tasks(self, limit=None):\n",
        "    session = self._database_manager.get_session()\n",
        "    results = session.query(Example).all()\n",
        "    limit = limit or len(results)\n",
        "    return results[:limit]\n",
        "\n",
        "  def list_annotators(self):\n",
        "    session = self._database_manager.get_session()\n",
        "    return session.query(Annotator).all()\n",
        "\n",
        "  def get_project_configs(self):\n",
        "    session = self._database_manager.get_session()\n",
        "    return session.query(ProjectConfigurations).all()\n",
        "\n",
        "  def grant_user_access(self, user):\n",
        "    session = self._database_manager.get_session()\n",
        "    tables = ['project_configurations',\n",
        "              'examples',\n",
        "              'annotations',\n",
        "              'annotators',\n",
        "              'assigned_annotators']\n",
        "    for table in tables:\n",
        "      session.execute(text(f\"GRANT SELECT ON {table} TO {user};\"))\n",
        "    # statement1 = text(f'GRANT SELECT ON ALL TABLES IN SCHEMA public TO {user};')\n",
        "    # statement2 = text(f'GRANT ALL PRIVILEGES ON DATABASE \"{self.db_configs[\"db_name\"]}\" TO {user};')\n",
        "\n",
        "    # session.execute(statement1)\n",
        "    # session.execute(statement2)\n"
      ]
    },
    {
      "cell_type": "code",
      "execution_count": null,
      "metadata": {
        "id": "nLsxBsulcSs8"
      },
      "outputs": [],
      "source": [
        "#@title Init Task Manager\n",
        "auth_configs = {'username': 'postgres',\n",
        "                'password': 'postgres',\n",
        "                'db_name': database_name,\n",
        "                'instance_connection_name': instance_connection_name\n",
        "                }\n",
        "\n",
        "task_manager = TaskManager(db_configs=auth_configs)\n",
        "task_manager.init()"
      ]
    },
    {
      "cell_type": "code",
      "execution_count": null,
      "metadata": {
        "id": "gPvUUW1MklCz"
      },
      "outputs": [],
      "source": [
        "#@title Get Project Configs\n",
        "#@markdown Enter Title for Project\n",
        "project_title = \"SKAI Data Annotation\" #@param {type: \"string\"}\n",
        "assert project_title, \"Please enter a project title\"\n",
        "\n",
        "#@markdown Specify deadline to complete annotation project\n",
        "completion_deadline = \"2024-04-30\" #@param {type:\"date\"}\n",
        "\n",
        "#@markdown Enter Data Source ie. GCP cloud bucket name\n",
        "bucket_name = \"skai-project\" #@param {type: \"string\"}\n",
        "assert bucket_name, \"Please enter data source for project\"\n",
        "\n",
        "#@markdown Enter Data Source Prefix\n",
        "bucket_prefix = \"skai-source_storage\" #@param {type: \"string\"}\n",
        "\n",
        "#@markdown Enter list of possible labels for data with comma separation eg. cat, dog\n",
        "comma_separated_labels = \"no_damage, destroyed, major_damage, minor_damage, None of the above\" #@param {type: \"string\"}\n",
        "assert comma_separated_labels, \"Please enter labels as comma-separated string\"\n",
        "\n",
        "#@markdown Enter the maximum number of annotators to assign to each example\n",
        "max_annotators_per_example = 3 # @param {type:\"integer\"}"
      ]
    },
    {
      "cell_type": "code",
      "source": [
        "#@title Set Project Configs\n",
        "task_manager.set_project_configs(\n",
        "    project_title,\n",
        "    bucket_name,\n",
        "    bucket_prefix,\n",
        "    comma_separated_labels,\n",
        "    max_annotators_per_example,\n",
        "    completion_deadline)\n",
        "\n",
        "# View configs\n",
        "task_manager.get_project_configs()[0]"
      ],
      "metadata": {
        "colab": {
          "base_uri": "https://localhost:8080/"
        },
        "id": "iUBE4o8dFc2d",
        "outputId": "1b29aab8-052c-41a1-bac7-b73588a192f8"
      },
      "execution_count": null,
      "outputs": [
        {
          "output_type": "execute_result",
          "data": {
            "text/plain": [
              "Project Configurations\n",
              "************************** \n",
              "project title='SKAI Data Annotation'\n",
              "cloud_bucket_name='skai-project'\n",
              "cloud_bucket_prefix='skai-source_storage'\n",
              "comma_separated_labels='no_damage, destroyed, major_damage, minor_damage, None of the above'\n",
              "max_annotation_per_example=3\n",
              "completion_deadline=datetime.datetime(2024, 4, 30, 0, 0)\n",
              "project creation date=datetime.datetime(2024, 4, 15, 14, 26, 8, 745105)"
            ]
          },
          "metadata": {},
          "execution_count": 67
        }
      ]
    },
    {
      "cell_type": "markdown",
      "metadata": {
        "id": "Qqf0DCHajjhz"
      },
      "source": [
        "# Add Users to Database"
      ]
    },
    {
      "cell_type": "code",
      "execution_count": null,
      "metadata": {
        "colab": {
          "base_uri": "https://localhost:8080/",
          "height": 81,
          "referenced_widgets": [
            "7e18ffcb9f5443fe9f817f8aedec3ef3",
            "49c942065ece474f8286a34d65d80df4",
            "f3ff1aaa7a8c418a88bfed6b3982717a",
            "6d72f92439e544d2b56e345714951512",
            "9c4cd41568e340abbf7ede0ef8dcee62",
            "78ff3ea1a6544d47adc8bee7270b78af",
            "62e6b7a8f70748a1948855ce381c9151",
            "e51b5999dc254fd389a02bea774017e4",
            "4eb096a552424060bef335e1a15f2e45",
            "f8ce39b05d7d454b9a0b6ceb78b10730",
            "40e7a258cb2640ad909c5175a55a4f20",
            "bd34d97fc70e4f81bf99b6ab22f270c0",
            "213769eaa7c84acfa3703e00fcf32c53",
            "595b9a7db6a5406faac2e162eee1cd66",
            "da690eba0e444b79a86dce1650f84148",
            "b1a454f80e184074bf4319b816d42332",
            "efac1714dc9645c68d426b075cd11f3c",
            "29cd17e52b404d94a40e0eaca0ee1f8d",
            "a4c98712d5fe41e9bfcb9d2a02dc9071",
            "496f85c608724f6a829d1f63e727339f",
            "32cdfe11dac8408e85c57afd626a5055"
          ]
        },
        "id": "hWDvIyv0vyNL",
        "cellView": "form",
        "outputId": "cb84de2f-352a-4100-e39f-f360e0b1dce5"
      },
      "outputs": [
        {
          "output_type": "display_data",
          "data": {
            "text/plain": [
              "VBox(children=(HBox(children=(Text(value='', description='USER:', placeholder='username'), Password(descriptio…"
            ],
            "application/vnd.jupyter.widget-view+json": {
              "version_major": 2,
              "version_minor": 0,
              "model_id": "7e18ffcb9f5443fe9f817f8aedec3ef3"
            }
          },
          "metadata": {}
        }
      ],
      "source": [
        "#@markdown Please Enter Username and password and click to add\n",
        "from collections import defaultdict\n",
        "\n",
        "user_dict = defaultdict()\n",
        "\n",
        "def add_user_to_db(input):\n",
        "  !gcloud sql users create {USERNAME.value} \\\n",
        "    --instance={instance_name} \\\n",
        "    --password={PASSWORD.value}\n",
        "  user_dict[USERNAME.value] = EMAIL.value\n",
        "\n",
        "def remove_user_from_db(input):\n",
        "  !gcloud sql users delete {USERNAME.value} \\\n",
        "    --instance={instance_name}\n",
        "  del user_dict[USERNAME.value]\n",
        "\n",
        "USERNAME = widgets.Text(\n",
        "    value=None,\n",
        "    placeholder='username',\n",
        "    description='USER:',\n",
        "    disabled=False\n",
        ")\n",
        "\n",
        "PASSWORD = widgets.Password(\n",
        "    value=None,\n",
        "    placeholder='password',\n",
        "    description='PASSWORD:',\n",
        "    disabled=False\n",
        ")\n",
        "\n",
        "EMAIL = widgets.Text(\n",
        "    value=None,\n",
        "    placeholder='Enter email',\n",
        "    description='EMAIL:',\n",
        "    disabled=False\n",
        ")\n",
        "\n",
        "add_user = widgets.Button(\n",
        "    value=False,\n",
        "    description='Add User',\n",
        "    disabled=False,\n",
        "    button_style='success',\n",
        "    tooltip='Description',\n",
        "    icon='check',\n",
        ")\n",
        "\n",
        "remove_user = widgets.Button(\n",
        "    value=False,\n",
        "    description='Remove User',\n",
        "    disabled=False,\n",
        "    button_style='danger',\n",
        "    tooltip='Description',\n",
        "    icon='check',\n",
        ")\n",
        "\n",
        "add_user.on_click(add_user_to_db)\n",
        "remove_user.on_click(remove_user_from_db)\n",
        "\n",
        "# TODO: Add User button on_click\n",
        "data_box1 = widgets.HBox([USERNAME, PASSWORD, EMAIL])\n",
        "data_box2 = widgets.HBox([add_user, remove_user])\n",
        "display(widgets.VBox([data_box1, data_box2]))"
      ]
    },
    {
      "cell_type": "code",
      "execution_count": null,
      "metadata": {
        "colab": {
          "base_uri": "https://localhost:8080/"
        },
        "id": "F56oewCRofw1",
        "outputId": "2f56d7bf-85ad-470e-e2ea-2768f9c0fd2c"
      },
      "outputs": [
        {
          "output_type": "stream",
          "name": "stdout",
          "text": [
            "List of Added users:  ['kbb', 'kobby', 'panford', 'postgres']\n"
          ]
        }
      ],
      "source": [
        "#@markdown # View list of users added to SQL Instance\n",
        "users = !gcloud sql users list --instance={instance_name} --format=\"value(name)\"\n",
        "print(\"List of Added users: \", users)"
      ]
    },
    {
      "cell_type": "code",
      "source": [
        "task_manager.grant_user_access('kobby')"
      ],
      "metadata": {
        "id": "4yOmgFwa4sCQ"
      },
      "execution_count": null,
      "outputs": []
    },
    {
      "cell_type": "code",
      "source": [
        "# !grant select on ProjectConfigurations to \"kobby\";"
      ],
      "metadata": {
        "colab": {
          "base_uri": "https://localhost:8080/"
        },
        "id": "O0RQEhkgplfG",
        "outputId": "22ed9393-5643-4543-dd96-7c2c8b240938"
      },
      "execution_count": null,
      "outputs": [
        {
          "output_type": "stream",
          "name": "stdout",
          "text": [
            "/bin/bash: line 1: grant: command not found\n"
          ]
        }
      ]
    },
    {
      "cell_type": "code",
      "source": [
        "annotators = [{'username': username} for username in users]\n",
        "annotators"
      ],
      "metadata": {
        "colab": {
          "base_uri": "https://localhost:8080/"
        },
        "id": "_oewCfVRkix1",
        "outputId": "1292e794-a757-4ff7-ea88-0d1a8dc027f8"
      },
      "execution_count": null,
      "outputs": [
        {
          "output_type": "execute_result",
          "data": {
            "text/plain": [
              "[{'username': 'kbb'},\n",
              " {'username': 'kobby'},\n",
              " {'username': 'panford'},\n",
              " {'username': 'postgres'}]"
            ]
          },
          "metadata": {},
          "execution_count": 154
        }
      ]
    },
    {
      "cell_type": "code",
      "source": [
        "for annotator_data in annotators:\n",
        "  username = annotator_data.get('username')\n",
        "  email = annotator_data.get('email')\n",
        "\n",
        "  print(\"username: \", username)\n",
        "  print(\"email: \", email)\n"
      ],
      "metadata": {
        "colab": {
          "base_uri": "https://localhost:8080/"
        },
        "id": "K4-DhZz9lBcR",
        "outputId": "e763784a-c111-49b7-a8aa-421eb3db361f"
      },
      "execution_count": null,
      "outputs": [
        {
          "output_type": "stream",
          "name": "stdout",
          "text": [
            "username:  kbb\n",
            "email:  None\n",
            "username:  kobby\n",
            "email:  None\n",
            "username:  panford\n",
            "email:  None\n",
            "username:  postgres\n",
            "email:  None\n"
          ]
        }
      ]
    },
    {
      "cell_type": "code",
      "source": [
        "task_manager.add_annotators(annotators)"
      ],
      "metadata": {
        "colab": {
          "base_uri": "https://localhost:8080/"
        },
        "id": "P6Eq4MCjialA",
        "outputId": "4ab0a8b8-2596-488d-a0da-23f193e97c4a"
      },
      "execution_count": null,
      "outputs": [
        {
          "output_type": "stream",
          "name": "stderr",
          "text": [
            "ERROR:root:Error adding annotator 'kbb': (pg8000.exceptions.DatabaseError) {'S': 'ERROR', 'V': 'ERROR', 'C': '23502', 'M': 'null value in column \"email\" of relation \"annotators\" violates not-null constraint', 'D': 'Failing row contains (8, null, kbb).', 's': 'public', 't': 'annotators', 'c': 'email', 'F': 'execMain.c', 'L': '1974', 'R': 'ExecConstraints'}\n",
            "[SQL: INSERT INTO annotators (username, email) VALUES (%s::VARCHAR, %s::VARCHAR) RETURNING annotators.annotator_id]\n",
            "[parameters: ('kbb', None)]\n",
            "(Background on this error at: https://sqlalche.me/e/20/4xp6)\n",
            "ERROR:root:Error adding annotator 'kobby': (pg8000.exceptions.DatabaseError) {'S': 'ERROR', 'V': 'ERROR', 'C': '23502', 'M': 'null value in column \"email\" of relation \"annotators\" violates not-null constraint', 'D': 'Failing row contains (9, null, kobby).', 's': 'public', 't': 'annotators', 'c': 'email', 'F': 'execMain.c', 'L': '1974', 'R': 'ExecConstraints'}\n",
            "[SQL: INSERT INTO annotators (username, email) VALUES (%s::VARCHAR, %s::VARCHAR) RETURNING annotators.annotator_id]\n",
            "[parameters: ('kobby', None)]\n",
            "(Background on this error at: https://sqlalche.me/e/20/4xp6)\n",
            "ERROR:root:Error adding annotator 'panford': (pg8000.exceptions.DatabaseError) {'S': 'ERROR', 'V': 'ERROR', 'C': '23502', 'M': 'null value in column \"email\" of relation \"annotators\" violates not-null constraint', 'D': 'Failing row contains (10, null, panford).', 's': 'public', 't': 'annotators', 'c': 'email', 'F': 'execMain.c', 'L': '1974', 'R': 'ExecConstraints'}\n",
            "[SQL: INSERT INTO annotators (username, email) VALUES (%s::VARCHAR, %s::VARCHAR) RETURNING annotators.annotator_id]\n",
            "[parameters: ('panford', None)]\n",
            "(Background on this error at: https://sqlalche.me/e/20/4xp6)\n",
            "ERROR:root:Error adding annotator 'postgres': (pg8000.exceptions.DatabaseError) {'S': 'ERROR', 'V': 'ERROR', 'C': '23502', 'M': 'null value in column \"email\" of relation \"annotators\" violates not-null constraint', 'D': 'Failing row contains (11, null, postgres).', 's': 'public', 't': 'annotators', 'c': 'email', 'F': 'execMain.c', 'L': '1974', 'R': 'ExecConstraints'}\n",
            "[SQL: INSERT INTO annotators (username, email) VALUES (%s::VARCHAR, %s::VARCHAR) RETURNING annotators.annotator_id]\n",
            "[parameters: ('postgres', None)]\n",
            "(Background on this error at: https://sqlalche.me/e/20/4xp6)\n"
          ]
        }
      ]
    },
    {
      "cell_type": "code",
      "source": [
        "task_manager.list_annotators()"
      ],
      "metadata": {
        "colab": {
          "base_uri": "https://localhost:8080/"
        },
        "id": "E61MKNGkiuwI",
        "outputId": "8a597c78-b425-459c-9084-f31b3a1b4bb4"
      },
      "execution_count": null,
      "outputs": [
        {
          "output_type": "execute_result",
          "data": {
            "text/plain": [
              "[]"
            ]
          },
          "metadata": {},
          "execution_count": 158
        }
      ]
    },
    {
      "cell_type": "markdown",
      "metadata": {
        "id": "jL1RIj14jc6A"
      },
      "source": [
        "# Upload Data"
      ]
    },
    {
      "cell_type": "code",
      "execution_count": null,
      "metadata": {
        "id": "SRRwySqxjimy"
      },
      "outputs": [],
      "source": [
        "# We will upload data from CSV. Lets get the csv file\n",
        "import google.cloud.storage as storage\n",
        "\n",
        "filename='image_metadata_copy.csv'\n",
        "\n",
        "client = storage.Client()\n",
        "# Get the bucket\n",
        "bucket = client.bucket(bucket_name=bucket_name)\n",
        "# Get the blob (file) from the bucket\n",
        "blob = bucket.blob(os.path.join(bucket_prefix, filename))\n",
        "\n",
        "# Download the blob to the specified destination path\n",
        "blob.download_to_filename('metadata.csv')"
      ]
    },
    {
      "cell_type": "code",
      "execution_count": null,
      "metadata": {
        "id": "f2FpGQFurcRr"
      },
      "outputs": [],
      "source": [
        "task_manager.add_tasks_from_csv('metadata.csv')"
      ]
    },
    {
      "cell_type": "code",
      "execution_count": null,
      "metadata": {
        "colab": {
          "base_uri": "https://localhost:8080/"
        },
        "id": "RlKJ1K_OQ2Om",
        "outputId": "3fcdd7f5-cf6f-499a-ec77-986de5dbe271"
      },
      "outputs": [
        {
          "output_type": "execute_result",
          "data": {
            "text/plain": [
              "[Example(example_id='4ec2f03040470970a07931e1e0167225',image_path='gs://skai-project/skai-source_storage/4ec2f03040470970a07931e1e0167225.png', annotations=[],\n",
              " Example(example_id='dce01ef4824ed6098cd2936e872d4297',image_path='gs://skai-project/skai-source_storage/dce01ef4824ed6098cd2936e872d4297.png', annotations=[]]"
            ]
          },
          "metadata": {},
          "execution_count": 122
        }
      ],
      "source": [
        "task_manager.list_tasks(limit=2)"
      ]
    },
    {
      "cell_type": "code",
      "execution_count": null,
      "metadata": {
        "colab": {
          "base_uri": "https://localhost:8080/"
        },
        "id": "IF3a5lPvSCVn",
        "outputId": "62a91056-7ba5-4f30-d082-7cb8e96ba44a"
      },
      "outputs": [
        {
          "output_type": "execute_result",
          "data": {
            "text/plain": [
              "[]"
            ]
          },
          "metadata": {},
          "execution_count": 77
        }
      ],
      "source": [
        "task_manager.list_annotators()"
      ]
    },
    {
      "cell_type": "markdown",
      "metadata": {
        "id": "YXB_A6ovjwdh"
      },
      "source": [
        "# Assign Tasks to Annotators"
      ]
    },
    {
      "cell_type": "code",
      "execution_count": null,
      "metadata": {
        "id": "t2ZJqkAcrFq4"
      },
      "outputs": [],
      "source": [
        "task_manager.assign_tasks(max_annotators_per_example=max_annotators_per_example)"
      ]
    },
    {
      "cell_type": "markdown",
      "metadata": {
        "id": "sMD7pA292Bw_"
      },
      "source": [
        "# Inspect Task Assignments"
      ]
    },
    {
      "cell_type": "code",
      "execution_count": null,
      "metadata": {
        "id": "AH_wl1Ja2A8X"
      },
      "outputs": [],
      "source": [
        "task_manager.show_assignment()"
      ]
    },
    {
      "cell_type": "markdown",
      "metadata": {
        "id": "sTMJz7nrj7f_"
      },
      "source": [
        "# Export Annotations"
      ]
    },
    {
      "cell_type": "markdown",
      "metadata": {
        "id": "O_2NcI5ijsMG"
      },
      "source": [
        "# Delete Data/ Database"
      ]
    },
    {
      "cell_type": "code",
      "execution_count": null,
      "metadata": {
        "id": "2-jd7gesjvRN"
      },
      "outputs": [],
      "source": [
        "!gcloud sql databases delete {DATABASE_NAME.value} \\\n",
        "--instance=INSTANCE_NAME\n",
        "!gcloud sql instances delete {instance_name}"
      ]
    }
  ],
  "metadata": {
    "colab": {
      "provenance": []
    },
    "kernelspec": {
      "display_name": "Python 3",
      "name": "python3"
    },
    "language_info": {
      "name": "python"
    },
    "widgets": {
      "application/vnd.jupyter.widget-state+json": {
        "7e18ffcb9f5443fe9f817f8aedec3ef3": {
          "model_module": "@jupyter-widgets/controls",
          "model_name": "VBoxModel",
          "model_module_version": "1.5.0",
          "state": {
            "_dom_classes": [],
            "_model_module": "@jupyter-widgets/controls",
            "_model_module_version": "1.5.0",
            "_model_name": "VBoxModel",
            "_view_count": null,
            "_view_module": "@jupyter-widgets/controls",
            "_view_module_version": "1.5.0",
            "_view_name": "VBoxView",
            "box_style": "",
            "children": [
              "IPY_MODEL_49c942065ece474f8286a34d65d80df4",
              "IPY_MODEL_f3ff1aaa7a8c418a88bfed6b3982717a"
            ],
            "layout": "IPY_MODEL_6d72f92439e544d2b56e345714951512"
          }
        },
        "49c942065ece474f8286a34d65d80df4": {
          "model_module": "@jupyter-widgets/controls",
          "model_name": "HBoxModel",
          "model_module_version": "1.5.0",
          "state": {
            "_dom_classes": [],
            "_model_module": "@jupyter-widgets/controls",
            "_model_module_version": "1.5.0",
            "_model_name": "HBoxModel",
            "_view_count": null,
            "_view_module": "@jupyter-widgets/controls",
            "_view_module_version": "1.5.0",
            "_view_name": "HBoxView",
            "box_style": "",
            "children": [
              "IPY_MODEL_9c4cd41568e340abbf7ede0ef8dcee62",
              "IPY_MODEL_78ff3ea1a6544d47adc8bee7270b78af",
              "IPY_MODEL_62e6b7a8f70748a1948855ce381c9151"
            ],
            "layout": "IPY_MODEL_e51b5999dc254fd389a02bea774017e4"
          }
        },
        "f3ff1aaa7a8c418a88bfed6b3982717a": {
          "model_module": "@jupyter-widgets/controls",
          "model_name": "HBoxModel",
          "model_module_version": "1.5.0",
          "state": {
            "_dom_classes": [],
            "_model_module": "@jupyter-widgets/controls",
            "_model_module_version": "1.5.0",
            "_model_name": "HBoxModel",
            "_view_count": null,
            "_view_module": "@jupyter-widgets/controls",
            "_view_module_version": "1.5.0",
            "_view_name": "HBoxView",
            "box_style": "",
            "children": [
              "IPY_MODEL_4eb096a552424060bef335e1a15f2e45",
              "IPY_MODEL_f8ce39b05d7d454b9a0b6ceb78b10730"
            ],
            "layout": "IPY_MODEL_40e7a258cb2640ad909c5175a55a4f20"
          }
        },
        "6d72f92439e544d2b56e345714951512": {
          "model_module": "@jupyter-widgets/base",
          "model_name": "LayoutModel",
          "model_module_version": "1.2.0",
          "state": {
            "_model_module": "@jupyter-widgets/base",
            "_model_module_version": "1.2.0",
            "_model_name": "LayoutModel",
            "_view_count": null,
            "_view_module": "@jupyter-widgets/base",
            "_view_module_version": "1.2.0",
            "_view_name": "LayoutView",
            "align_content": null,
            "align_items": null,
            "align_self": null,
            "border": null,
            "bottom": null,
            "display": null,
            "flex": null,
            "flex_flow": null,
            "grid_area": null,
            "grid_auto_columns": null,
            "grid_auto_flow": null,
            "grid_auto_rows": null,
            "grid_column": null,
            "grid_gap": null,
            "grid_row": null,
            "grid_template_areas": null,
            "grid_template_columns": null,
            "grid_template_rows": null,
            "height": null,
            "justify_content": null,
            "justify_items": null,
            "left": null,
            "margin": null,
            "max_height": null,
            "max_width": null,
            "min_height": null,
            "min_width": null,
            "object_fit": null,
            "object_position": null,
            "order": null,
            "overflow": null,
            "overflow_x": null,
            "overflow_y": null,
            "padding": null,
            "right": null,
            "top": null,
            "visibility": null,
            "width": null
          }
        },
        "9c4cd41568e340abbf7ede0ef8dcee62": {
          "model_module": "@jupyter-widgets/controls",
          "model_name": "TextModel",
          "model_module_version": "1.5.0",
          "state": {
            "_dom_classes": [],
            "_model_module": "@jupyter-widgets/controls",
            "_model_module_version": "1.5.0",
            "_model_name": "TextModel",
            "_view_count": null,
            "_view_module": "@jupyter-widgets/controls",
            "_view_module_version": "1.5.0",
            "_view_name": "TextView",
            "continuous_update": true,
            "description": "USER:",
            "description_tooltip": null,
            "disabled": false,
            "layout": "IPY_MODEL_bd34d97fc70e4f81bf99b6ab22f270c0",
            "placeholder": "username",
            "style": "IPY_MODEL_213769eaa7c84acfa3703e00fcf32c53",
            "value": ""
          }
        },
        "78ff3ea1a6544d47adc8bee7270b78af": {
          "model_module": "@jupyter-widgets/controls",
          "model_name": "PasswordModel",
          "model_module_version": "1.5.0",
          "state": {
            "_dom_classes": [],
            "_model_module": "@jupyter-widgets/controls",
            "_model_module_version": "1.5.0",
            "_model_name": "PasswordModel",
            "_view_count": null,
            "_view_module": "@jupyter-widgets/controls",
            "_view_module_version": "1.5.0",
            "_view_name": "PasswordView",
            "continuous_update": true,
            "description": "PASSWORD:",
            "description_tooltip": null,
            "disabled": false,
            "layout": "IPY_MODEL_595b9a7db6a5406faac2e162eee1cd66",
            "placeholder": "password",
            "style": "IPY_MODEL_da690eba0e444b79a86dce1650f84148",
            "value": ""
          }
        },
        "62e6b7a8f70748a1948855ce381c9151": {
          "model_module": "@jupyter-widgets/controls",
          "model_name": "TextModel",
          "model_module_version": "1.5.0",
          "state": {
            "_dom_classes": [],
            "_model_module": "@jupyter-widgets/controls",
            "_model_module_version": "1.5.0",
            "_model_name": "TextModel",
            "_view_count": null,
            "_view_module": "@jupyter-widgets/controls",
            "_view_module_version": "1.5.0",
            "_view_name": "TextView",
            "continuous_update": true,
            "description": "EMAIL:",
            "description_tooltip": null,
            "disabled": false,
            "layout": "IPY_MODEL_b1a454f80e184074bf4319b816d42332",
            "placeholder": "Enter email",
            "style": "IPY_MODEL_efac1714dc9645c68d426b075cd11f3c",
            "value": ""
          }
        },
        "e51b5999dc254fd389a02bea774017e4": {
          "model_module": "@jupyter-widgets/base",
          "model_name": "LayoutModel",
          "model_module_version": "1.2.0",
          "state": {
            "_model_module": "@jupyter-widgets/base",
            "_model_module_version": "1.2.0",
            "_model_name": "LayoutModel",
            "_view_count": null,
            "_view_module": "@jupyter-widgets/base",
            "_view_module_version": "1.2.0",
            "_view_name": "LayoutView",
            "align_content": null,
            "align_items": null,
            "align_self": null,
            "border": null,
            "bottom": null,
            "display": null,
            "flex": null,
            "flex_flow": null,
            "grid_area": null,
            "grid_auto_columns": null,
            "grid_auto_flow": null,
            "grid_auto_rows": null,
            "grid_column": null,
            "grid_gap": null,
            "grid_row": null,
            "grid_template_areas": null,
            "grid_template_columns": null,
            "grid_template_rows": null,
            "height": null,
            "justify_content": null,
            "justify_items": null,
            "left": null,
            "margin": null,
            "max_height": null,
            "max_width": null,
            "min_height": null,
            "min_width": null,
            "object_fit": null,
            "object_position": null,
            "order": null,
            "overflow": null,
            "overflow_x": null,
            "overflow_y": null,
            "padding": null,
            "right": null,
            "top": null,
            "visibility": null,
            "width": null
          }
        },
        "4eb096a552424060bef335e1a15f2e45": {
          "model_module": "@jupyter-widgets/controls",
          "model_name": "ButtonModel",
          "model_module_version": "1.5.0",
          "state": {
            "_dom_classes": [],
            "_model_module": "@jupyter-widgets/controls",
            "_model_module_version": "1.5.0",
            "_model_name": "ButtonModel",
            "_view_count": null,
            "_view_module": "@jupyter-widgets/controls",
            "_view_module_version": "1.5.0",
            "_view_name": "ButtonView",
            "button_style": "success",
            "description": "Add User",
            "disabled": false,
            "icon": "check",
            "layout": "IPY_MODEL_29cd17e52b404d94a40e0eaca0ee1f8d",
            "style": "IPY_MODEL_a4c98712d5fe41e9bfcb9d2a02dc9071",
            "tooltip": "Description"
          }
        },
        "f8ce39b05d7d454b9a0b6ceb78b10730": {
          "model_module": "@jupyter-widgets/controls",
          "model_name": "ButtonModel",
          "model_module_version": "1.5.0",
          "state": {
            "_dom_classes": [],
            "_model_module": "@jupyter-widgets/controls",
            "_model_module_version": "1.5.0",
            "_model_name": "ButtonModel",
            "_view_count": null,
            "_view_module": "@jupyter-widgets/controls",
            "_view_module_version": "1.5.0",
            "_view_name": "ButtonView",
            "button_style": "danger",
            "description": "Remove User",
            "disabled": false,
            "icon": "check",
            "layout": "IPY_MODEL_496f85c608724f6a829d1f63e727339f",
            "style": "IPY_MODEL_32cdfe11dac8408e85c57afd626a5055",
            "tooltip": "Description"
          }
        },
        "40e7a258cb2640ad909c5175a55a4f20": {
          "model_module": "@jupyter-widgets/base",
          "model_name": "LayoutModel",
          "model_module_version": "1.2.0",
          "state": {
            "_model_module": "@jupyter-widgets/base",
            "_model_module_version": "1.2.0",
            "_model_name": "LayoutModel",
            "_view_count": null,
            "_view_module": "@jupyter-widgets/base",
            "_view_module_version": "1.2.0",
            "_view_name": "LayoutView",
            "align_content": null,
            "align_items": null,
            "align_self": null,
            "border": null,
            "bottom": null,
            "display": null,
            "flex": null,
            "flex_flow": null,
            "grid_area": null,
            "grid_auto_columns": null,
            "grid_auto_flow": null,
            "grid_auto_rows": null,
            "grid_column": null,
            "grid_gap": null,
            "grid_row": null,
            "grid_template_areas": null,
            "grid_template_columns": null,
            "grid_template_rows": null,
            "height": null,
            "justify_content": null,
            "justify_items": null,
            "left": null,
            "margin": null,
            "max_height": null,
            "max_width": null,
            "min_height": null,
            "min_width": null,
            "object_fit": null,
            "object_position": null,
            "order": null,
            "overflow": null,
            "overflow_x": null,
            "overflow_y": null,
            "padding": null,
            "right": null,
            "top": null,
            "visibility": null,
            "width": null
          }
        },
        "bd34d97fc70e4f81bf99b6ab22f270c0": {
          "model_module": "@jupyter-widgets/base",
          "model_name": "LayoutModel",
          "model_module_version": "1.2.0",
          "state": {
            "_model_module": "@jupyter-widgets/base",
            "_model_module_version": "1.2.0",
            "_model_name": "LayoutModel",
            "_view_count": null,
            "_view_module": "@jupyter-widgets/base",
            "_view_module_version": "1.2.0",
            "_view_name": "LayoutView",
            "align_content": null,
            "align_items": null,
            "align_self": null,
            "border": null,
            "bottom": null,
            "display": null,
            "flex": null,
            "flex_flow": null,
            "grid_area": null,
            "grid_auto_columns": null,
            "grid_auto_flow": null,
            "grid_auto_rows": null,
            "grid_column": null,
            "grid_gap": null,
            "grid_row": null,
            "grid_template_areas": null,
            "grid_template_columns": null,
            "grid_template_rows": null,
            "height": null,
            "justify_content": null,
            "justify_items": null,
            "left": null,
            "margin": null,
            "max_height": null,
            "max_width": null,
            "min_height": null,
            "min_width": null,
            "object_fit": null,
            "object_position": null,
            "order": null,
            "overflow": null,
            "overflow_x": null,
            "overflow_y": null,
            "padding": null,
            "right": null,
            "top": null,
            "visibility": null,
            "width": null
          }
        },
        "213769eaa7c84acfa3703e00fcf32c53": {
          "model_module": "@jupyter-widgets/controls",
          "model_name": "DescriptionStyleModel",
          "model_module_version": "1.5.0",
          "state": {
            "_model_module": "@jupyter-widgets/controls",
            "_model_module_version": "1.5.0",
            "_model_name": "DescriptionStyleModel",
            "_view_count": null,
            "_view_module": "@jupyter-widgets/base",
            "_view_module_version": "1.2.0",
            "_view_name": "StyleView",
            "description_width": ""
          }
        },
        "595b9a7db6a5406faac2e162eee1cd66": {
          "model_module": "@jupyter-widgets/base",
          "model_name": "LayoutModel",
          "model_module_version": "1.2.0",
          "state": {
            "_model_module": "@jupyter-widgets/base",
            "_model_module_version": "1.2.0",
            "_model_name": "LayoutModel",
            "_view_count": null,
            "_view_module": "@jupyter-widgets/base",
            "_view_module_version": "1.2.0",
            "_view_name": "LayoutView",
            "align_content": null,
            "align_items": null,
            "align_self": null,
            "border": null,
            "bottom": null,
            "display": null,
            "flex": null,
            "flex_flow": null,
            "grid_area": null,
            "grid_auto_columns": null,
            "grid_auto_flow": null,
            "grid_auto_rows": null,
            "grid_column": null,
            "grid_gap": null,
            "grid_row": null,
            "grid_template_areas": null,
            "grid_template_columns": null,
            "grid_template_rows": null,
            "height": null,
            "justify_content": null,
            "justify_items": null,
            "left": null,
            "margin": null,
            "max_height": null,
            "max_width": null,
            "min_height": null,
            "min_width": null,
            "object_fit": null,
            "object_position": null,
            "order": null,
            "overflow": null,
            "overflow_x": null,
            "overflow_y": null,
            "padding": null,
            "right": null,
            "top": null,
            "visibility": null,
            "width": null
          }
        },
        "da690eba0e444b79a86dce1650f84148": {
          "model_module": "@jupyter-widgets/controls",
          "model_name": "DescriptionStyleModel",
          "model_module_version": "1.5.0",
          "state": {
            "_model_module": "@jupyter-widgets/controls",
            "_model_module_version": "1.5.0",
            "_model_name": "DescriptionStyleModel",
            "_view_count": null,
            "_view_module": "@jupyter-widgets/base",
            "_view_module_version": "1.2.0",
            "_view_name": "StyleView",
            "description_width": ""
          }
        },
        "b1a454f80e184074bf4319b816d42332": {
          "model_module": "@jupyter-widgets/base",
          "model_name": "LayoutModel",
          "model_module_version": "1.2.0",
          "state": {
            "_model_module": "@jupyter-widgets/base",
            "_model_module_version": "1.2.0",
            "_model_name": "LayoutModel",
            "_view_count": null,
            "_view_module": "@jupyter-widgets/base",
            "_view_module_version": "1.2.0",
            "_view_name": "LayoutView",
            "align_content": null,
            "align_items": null,
            "align_self": null,
            "border": null,
            "bottom": null,
            "display": null,
            "flex": null,
            "flex_flow": null,
            "grid_area": null,
            "grid_auto_columns": null,
            "grid_auto_flow": null,
            "grid_auto_rows": null,
            "grid_column": null,
            "grid_gap": null,
            "grid_row": null,
            "grid_template_areas": null,
            "grid_template_columns": null,
            "grid_template_rows": null,
            "height": null,
            "justify_content": null,
            "justify_items": null,
            "left": null,
            "margin": null,
            "max_height": null,
            "max_width": null,
            "min_height": null,
            "min_width": null,
            "object_fit": null,
            "object_position": null,
            "order": null,
            "overflow": null,
            "overflow_x": null,
            "overflow_y": null,
            "padding": null,
            "right": null,
            "top": null,
            "visibility": null,
            "width": null
          }
        },
        "efac1714dc9645c68d426b075cd11f3c": {
          "model_module": "@jupyter-widgets/controls",
          "model_name": "DescriptionStyleModel",
          "model_module_version": "1.5.0",
          "state": {
            "_model_module": "@jupyter-widgets/controls",
            "_model_module_version": "1.5.0",
            "_model_name": "DescriptionStyleModel",
            "_view_count": null,
            "_view_module": "@jupyter-widgets/base",
            "_view_module_version": "1.2.0",
            "_view_name": "StyleView",
            "description_width": ""
          }
        },
        "29cd17e52b404d94a40e0eaca0ee1f8d": {
          "model_module": "@jupyter-widgets/base",
          "model_name": "LayoutModel",
          "model_module_version": "1.2.0",
          "state": {
            "_model_module": "@jupyter-widgets/base",
            "_model_module_version": "1.2.0",
            "_model_name": "LayoutModel",
            "_view_count": null,
            "_view_module": "@jupyter-widgets/base",
            "_view_module_version": "1.2.0",
            "_view_name": "LayoutView",
            "align_content": null,
            "align_items": null,
            "align_self": null,
            "border": null,
            "bottom": null,
            "display": null,
            "flex": null,
            "flex_flow": null,
            "grid_area": null,
            "grid_auto_columns": null,
            "grid_auto_flow": null,
            "grid_auto_rows": null,
            "grid_column": null,
            "grid_gap": null,
            "grid_row": null,
            "grid_template_areas": null,
            "grid_template_columns": null,
            "grid_template_rows": null,
            "height": null,
            "justify_content": null,
            "justify_items": null,
            "left": null,
            "margin": null,
            "max_height": null,
            "max_width": null,
            "min_height": null,
            "min_width": null,
            "object_fit": null,
            "object_position": null,
            "order": null,
            "overflow": null,
            "overflow_x": null,
            "overflow_y": null,
            "padding": null,
            "right": null,
            "top": null,
            "visibility": null,
            "width": null
          }
        },
        "a4c98712d5fe41e9bfcb9d2a02dc9071": {
          "model_module": "@jupyter-widgets/controls",
          "model_name": "ButtonStyleModel",
          "model_module_version": "1.5.0",
          "state": {
            "_model_module": "@jupyter-widgets/controls",
            "_model_module_version": "1.5.0",
            "_model_name": "ButtonStyleModel",
            "_view_count": null,
            "_view_module": "@jupyter-widgets/base",
            "_view_module_version": "1.2.0",
            "_view_name": "StyleView",
            "button_color": null,
            "font_weight": ""
          }
        },
        "496f85c608724f6a829d1f63e727339f": {
          "model_module": "@jupyter-widgets/base",
          "model_name": "LayoutModel",
          "model_module_version": "1.2.0",
          "state": {
            "_model_module": "@jupyter-widgets/base",
            "_model_module_version": "1.2.0",
            "_model_name": "LayoutModel",
            "_view_count": null,
            "_view_module": "@jupyter-widgets/base",
            "_view_module_version": "1.2.0",
            "_view_name": "LayoutView",
            "align_content": null,
            "align_items": null,
            "align_self": null,
            "border": null,
            "bottom": null,
            "display": null,
            "flex": null,
            "flex_flow": null,
            "grid_area": null,
            "grid_auto_columns": null,
            "grid_auto_flow": null,
            "grid_auto_rows": null,
            "grid_column": null,
            "grid_gap": null,
            "grid_row": null,
            "grid_template_areas": null,
            "grid_template_columns": null,
            "grid_template_rows": null,
            "height": null,
            "justify_content": null,
            "justify_items": null,
            "left": null,
            "margin": null,
            "max_height": null,
            "max_width": null,
            "min_height": null,
            "min_width": null,
            "object_fit": null,
            "object_position": null,
            "order": null,
            "overflow": null,
            "overflow_x": null,
            "overflow_y": null,
            "padding": null,
            "right": null,
            "top": null,
            "visibility": null,
            "width": null
          }
        },
        "32cdfe11dac8408e85c57afd626a5055": {
          "model_module": "@jupyter-widgets/controls",
          "model_name": "ButtonStyleModel",
          "model_module_version": "1.5.0",
          "state": {
            "_model_module": "@jupyter-widgets/controls",
            "_model_module_version": "1.5.0",
            "_model_name": "ButtonStyleModel",
            "_view_count": null,
            "_view_module": "@jupyter-widgets/base",
            "_view_module_version": "1.2.0",
            "_view_name": "StyleView",
            "button_color": null,
            "font_weight": ""
          }
        }
      }
    }
  },
  "nbformat": 4,
  "nbformat_minor": 0
}