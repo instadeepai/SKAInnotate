{
  "cells": [
    {
      "cell_type": "markdown",
      "metadata": {},
      "source": [
        "<a target=\"_blank\" href=\"https://colab.research.google.com/github/instadeepai/SKAInnotate/blob/main/Admin_Notebook.ipynb\">\n",
        "  <img src=\"https://colab.research.google.com/assets/colab-badge.svg\" alt=\"Open In Colab\"/>\n",
        "</a>"
      ]
    },
    {
      "cell_type": "markdown",
      "metadata": {
        "id": "-1cxkqaDTPaN"
      },
      "source": [
        "# SKAInnotate - Admin Notebook"
      ]
    },
    {
      "cell_type": "markdown",
      "metadata": {
        "id": "Z_N0oiStTVdh"
      },
      "source": [
        "This is a data annotation tool enabling teams to annotate data from colab notebook.\n",
        "This Admin-Notebook allows the following key features,\n",
        "* Setting up a new annotation project\n",
        "* Setting project configs\n",
        "* Adding and assigning annotators to tasks\n",
        "* Exporting annotations"
      ]
    },
    {
      "cell_type": "code",
      "execution_count": null,
      "metadata": {
        "id": "ySqpBEQwKpSF"
      },
      "outputs": [],
      "source": [
        "#@title Install Cloud SQL connector\n",
        "import sys\n",
        "!{sys.executable} -m pip install -q cloud-sql-python-connector[\"pg8000\"]"
      ]
    },
    {
      "cell_type": "code",
      "execution_count": null,
      "metadata": {
        "cellView": "form",
        "id": "hhR5hh4Hi7Xy"
      },
      "outputs": [],
      "source": [
        "#@markdown import libraries\n",
        "import os\n",
        "import json\n",
        "import logging\n",
        "from functools import partial\n",
        "from abc import ABC, abstractmethod\n",
        "\n",
        "import ipywidgets as widgets\n",
        "from IPython.display import display\n",
        "import matplotlib.pyplot as plt\n",
        "import matplotlib.image as mpimg\n",
        "\n",
        "import reprlib\n",
        "import pandas as pd\n",
        "from typing import List\n",
        "from datetime import datetime\n",
        "\n",
        "import sqlalchemy as sqla\n",
        "from sqlalchemy import create_engine\n",
        "from sqlalchemy import exc\n",
        "from sqlalchemy.sql import text\n",
        "\n",
        "from sqlalchemy.orm import Session\n",
        "from sqlalchemy.orm import Mapped\n",
        "from sqlalchemy.orm import mapped_column\n",
        "from sqlalchemy.orm import relationship\n",
        "from sqlalchemy.orm import declarative_base\n",
        "from sqlalchemy.orm import sessionmaker\n",
        "from sqlalchemy.orm import scoped_session\n",
        "\n",
        "import google.cloud.storage as storage\n",
        "from google.cloud.sql.connector import Connector"
      ]
    },
    {
      "cell_type": "markdown",
      "metadata": {
        "id": "yj8O2HtWjRXE"
      },
      "source": [
        "## Authenticate to Google Colab"
      ]
    },
    {
      "cell_type": "markdown",
      "metadata": {
        "id": "xh4RHOG3Vekm"
      },
      "source": [
        "Authentication in Google Colab provides access to Google services requiring authentication such as Google Cloud Storage and Google Cloud SQL."
      ]
    },
    {
      "cell_type": "code",
      "execution_count": null,
      "metadata": {
        "id": "4ItXMpvBdOrr"
      },
      "outputs": [],
      "source": [
        "from google.colab import auth\n",
        "auth.authenticate_user()"
      ]
    },
    {
      "cell_type": "markdown",
      "metadata": {
        "id": "cXznlQzuQzn_"
      },
      "source": [
        "## Setup Google Cloud Project"
      ]
    },
    {
      "cell_type": "code",
      "execution_count": null,
      "metadata": {
        "id": "fG8xCbGNqbM7"
      },
      "outputs": [],
      "source": [
        "#@markdown Please enter your GCP Project ID\n",
        "project_id = \"\" #@param {type:\"string\"}\n",
        "assert project_id, \"Please enter your Google Project ID to continue\"\n",
        "!gcloud config set project {project_id}"
      ]
    },
    {
      "cell_type": "code",
      "execution_count": null,
      "metadata": {
        "id": "JywC3daOeYbC"
      },
      "outputs": [],
      "source": [
        "#@markdown Set IAM policy binding and enable Cloud SQL Admin API\n",
        "user_account = !gcloud auth list --filter=status:ACTIVE --format=\"value(account)\"\n",
        "print(\"Active User Account: \", user_account[0])\n",
        "\n",
        "out=!gcloud projects add-iam-policy-binding {project_id} \\\n",
        "  --member=user:{user_account[0]} \\\n",
        "  --role=\"roles/cloudsql.client\"\n",
        "\n",
        "!gcloud services enable sqladmin.googleapis.com"
      ]
    },
    {
      "cell_type": "code",
      "execution_count": null,
      "metadata": {
        "id": "7PJodGPYIOGd"
      },
      "outputs": [],
      "source": [
        "#@title Create Cloud SQL Instance\n",
        "\n",
        "#@markdown Enter the region of your Google Cloud SQL instance.\n",
        "\n",
        "# Please fill in these values.\n",
        "region = \"\" #@param {type:\"string\"}\n",
        "\n",
        "#@markdown Enter the name of your Google Cloud SQL instance.\n",
        "instance_name = \"\" #@param {type:\"string\"}\n",
        "\n",
        "assert region, \"Please enter a Google Cloud region\"\n",
        "assert instance_name, \"Please enter the name of your instance\"\n",
        "\n",
        "#@markdown Enter a password to be used for 'postgres' database user\n",
        "root_password = \"\" #@param {type:\"string\"}\n",
        "assert root_password, \"Please enter a password for 'postgres' database user\"\n",
        "# check if Cloud SQL instance exists in the provided region\n",
        "database_version = !gcloud sql instances describe {instance_name} --format=\"value(databaseVersion)\"\n",
        "if database_version[0].startswith(\"POSTGRES\"):\n",
        "  print(\"Found existing Postgres Cloud SQL Instance!\")\n",
        "else:\n",
        "  print(\"Creating new Cloud SQL instance...\")\n",
        "  !gcloud sql instances create {instance_name} --database-version=POSTGRES_15 \\\n",
        "    --region={region} --cpu=1 --memory=4GB --root-password={root_password} \\\n",
        "    --database-flags=cloudsql.iam_authentication=On\n"
      ]
    },
    {
      "cell_type": "code",
      "execution_count": null,
      "metadata": {
        "id": "FeBx5tVomi1x"
      },
      "outputs": [],
      "source": [
        "instance_connection_name = f\"{project_id}:{region}:{instance_name}\"\n",
        "print(\"Instance Connection Name: \", instance_connection_name)"
      ]
    },
    {
      "cell_type": "markdown",
      "metadata": {
        "id": "kh4_Q98IjVEP"
      },
      "source": [
        "## Create Database"
      ]
    },
    {
      "cell_type": "markdown",
      "metadata": {
        "id": "1V418kYaQt4V"
      },
      "source": [
        "A new database is created if not already existing. This will store schemas and tables for the annotation task."
      ]
    },
    {
      "cell_type": "code",
      "execution_count": null,
      "metadata": {
        "id": "ySb_nHWF1h13"
      },
      "outputs": [],
      "source": [
        "#@markdown Please Enter database name to create\n",
        "database_name = \"\" #@param {type: \"string\"}\n",
        "assert database_name, \"Please enter a name for the database to be created\"\n",
        "\n",
        "!gcloud sql databases create {database_name} --instance={instance_name}"
      ]
    },
    {
      "cell_type": "code",
      "execution_count": null,
      "metadata": {
        "cellView": "form",
        "id": "Td8nYsppkJNN"
      },
      "outputs": [],
      "source": [
        "##@title Task Manager\n",
        "\n",
        "#@markdown Setup_lib.py\n",
        "\n",
        "class DatabaseManagerBase(ABC):\n",
        "  def __init__(self):\n",
        "    self._engine = None\n",
        "    self._session = None\n",
        "\n",
        "  @abstractmethod\n",
        "  def setup(self):\n",
        "    pass\n",
        "\n",
        "  def get_session(self):\n",
        "    return self._session\n",
        "\n",
        "  def get_engine(self):\n",
        "    return self._engine\n",
        "\n",
        "  def close_session(self):\n",
        "    self._session.close()\n",
        "\n",
        "\n",
        "class TaskManagerBase(ABC):\n",
        "  def __init__(self):\n",
        "    pass\n",
        "\n",
        "  def list_tasks(self):\n",
        "    pass\n",
        "\n",
        "class DatabaseManager(DatabaseManagerBase):\n",
        "  def __init__(\n",
        "      self,\n",
        "      username: str,\n",
        "      password: str,\n",
        "      db_name: str,\n",
        "      instance_connection_name: str,\n",
        "      **kwargs: dict):\n",
        "\n",
        "    self.username = username\n",
        "    self.password = password\n",
        "    self.db_name = db_name\n",
        "    self.instance_connection_name = instance_connection_name\n",
        "\n",
        "    self.kwargs = kwargs\n",
        "    self._engine = None\n",
        "    self._session = None\n",
        "\n",
        "  def setup(self):\n",
        "    connector = Connector()\n",
        "    def getconn():\n",
        "      conn = connector.connect(\n",
        "          self.instance_connection_name,\n",
        "          \"pg8000\",\n",
        "          user=self.username,\n",
        "          password=self.password,\n",
        "          db=self.db_name\n",
        "      )\n",
        "      return conn\n",
        "\n",
        "    self._engine = sqla.create_engine(\n",
        "    \"postgresql+pg8000://\",\n",
        "    creator=getconn,\n",
        "    )\n",
        "    Base.metadata.bind = self._engine\n",
        "    try:\n",
        "      Base.metadata.create_all(self._engine)\n",
        "    except exc.ProgrammingError as e:\n",
        "      raise # 'Error creating Database'\n",
        "\n",
        "    session_factory = sessionmaker(autocommit=False, autoflush=False, bind=self._engine)\n",
        "    self._session = scoped_session(session_factory)\n",
        "\n",
        "    Base.query = self._session.query_property()\n",
        "    logging.info(\"Database Manager Initialized\")\n",
        "\n",
        "  def get_session(self):\n",
        "    return self._session\n",
        "\n",
        "\n",
        "class TaskManager(TaskManagerBase):\n",
        "  def __init__(self,\n",
        "               username: str,\n",
        "               password: str,\n",
        "               db_name: str,\n",
        "               instance_connection_name: str\n",
        "               )-> None:\n",
        "    self._database_manager = DatabaseManager(\n",
        "        username=username,\n",
        "        password=password,\n",
        "        db_name=db_name,\n",
        "        instance_connection_name=instance_connection_name\n",
        "      )\n",
        "    self.username = username\n",
        "    # self._database_manager = None\n",
        "    # self._task_configs = None\n",
        "    # pass\n",
        "\n",
        "  def setup(self):\n",
        "    self._database_manager.setup()\n",
        "    self._engine = self._database_manager.get_engine()\n",
        "    self._session = self._database_manager.get_session()\n",
        "    pass\n",
        "\n",
        "  @staticmethod\n",
        "  def download_csv_from_bucket(bucket_name, bucket_prefix, csv_filename):\n",
        "    temp_file = 'metadata.csv'\n",
        "    client = storage.Client()\n",
        "    bucket = client.bucket(bucket_name=bucket_name)\n",
        "    blob = bucket.blob(os.path.join(bucket_prefix, csv_filename))\n",
        "    blob.download_to_filename(temp_file)\n",
        "\n",
        "    return temp_file\n",
        "\n",
        "  def add_tasks(self, bucket_name, bucket_prefix, csv_filename=None):\n",
        "    session = self._session()\n",
        "    metadata_file = self.download_csv_from_bucket(bucket_name, bucket_prefix, csv_filename)\n",
        "\n",
        "    if csv_filename:\n",
        "      self._add_tasks_from_csv(session, metadata_file)\n",
        "\n",
        "  @staticmethod\n",
        "  def _add_tasks_from_csv(session, csv_path: str):\n",
        "    '''\n",
        "    Adding Tasks from CSV metadata\n",
        "    Args:\n",
        "      csv_path: path to CSV file with metadata\n",
        "    Return:\n",
        "      None\n",
        "    '''\n",
        "    tasks_df = pd.read_csv(csv_path)\n",
        "\n",
        "    for _, row in tasks_df.iterrows():\n",
        "      example_id = row['example_id']\n",
        "      existing_task = session.query(Example).filter_by(example_id=str(example_id)).first()\n",
        "\n",
        "      if existing_task is None:\n",
        "        task = Example(example_id=example_id, image=row['image'])\n",
        "        session.add(task)\n",
        "        session.commit()\n",
        "      else:\n",
        "        logging.info(f\"Task with example_id '{example_id}' already exists. Skipping.\")\n",
        "    logging.info(\"\\n\")\n",
        "\n",
        "  def set_project_configs(\n",
        "      self,\n",
        "      project_title: str = None,\n",
        "      cloud_bucket_name: str = None,\n",
        "      cloud_bucket_prefix: str = None,\n",
        "      comma_separated_labels: str = None,\n",
        "      max_annotators_per_example: str = None,\n",
        "      completion_deadline: datetime = None\n",
        "      )-> None:\n",
        "\n",
        "    assert project_title, 'Please Enter project title'\n",
        "    assert cloud_bucket_name, 'Please Enter source bucket name'\n",
        "    assert comma_separated_labels, 'Please Enter task labels'\n",
        "\n",
        "    session = self._session()\n",
        "    existing_config = session.query(ProjectConfigurations).filter_by(project_id=1).first()\n",
        "\n",
        "    if existing_config:\n",
        "      if project_title: existing_config.project_title = project_title\n",
        "      if cloud_bucket_name: existing_config.cloud_bucket_name = cloud_bucket_name\n",
        "      if cloud_bucket_prefix: existing_config.cloud_bucket_prefix = cloud_bucket_prefix\n",
        "      if comma_separated_labels: existing_config.comma_separated_labels = comma_separated_labels\n",
        "      if max_annotators_per_example: existing_config.max_annotation_per_example = max_annotators_per_example\n",
        "      if completion_deadline: existing_config.completion_deadline = completion_deadline\n",
        "\n",
        "    else:\n",
        "      project_configs = ProjectConfigurations(\n",
        "        project_title=project_title,\n",
        "        cloud_bucket_name=cloud_bucket_name,\n",
        "        cloud_bucket_prefix=cloud_bucket_prefix,\n",
        "        comma_separated_labels=comma_separated_labels,\n",
        "        max_annotation_per_example=max_annotators_per_example\n",
        "      )\n",
        "      session.add(project_configs)\n",
        "    session.commit()\n",
        "\n",
        "  def assign_tasks(self, max_annotators_per_example):\n",
        "    # Get all available examples and available annotators\n",
        "    # Assign examples to annotators such that each example\n",
        "    # is assigned up to a MAX_ANNOTATORS_PER_TASK number of times\n",
        "\n",
        "    session = self._session()\n",
        "    assignments = []\n",
        "\n",
        "    # Query humans and tasks\n",
        "    annotators = session.query(Annotator).all()\n",
        "    examples = session.query(Example).all()\n",
        "    num_annotators = len(annotators)\n",
        "    num_examples = len(examples)\n",
        "\n",
        "    # Round Robin Assignment Algorithm\n",
        "\n",
        "    for i in range(num_examples):\n",
        "      example = examples[i]\n",
        "      for j in range(max_annotators_per_example):\n",
        "        annotator = annotators[(i * max_annotators_per_example + j) % num_annotators]\n",
        "        assignments.append(\n",
        "          AssignedAnnotator(annotator_id=annotator.annotator_id,\n",
        "            example_id=example.example_id)\n",
        "            )\n",
        "    session.add_all(assignments)\n",
        "    session.commit()\n",
        "    return assignments\n",
        "\n",
        "  def show_assignments(self, limit=None):\n",
        "    session = self._session()\n",
        "    assigned_annotators = session.query(AssignedAnnotator).all()\n",
        "\n",
        "    limit = limit or len(assigned_annotators)\n",
        "    for assigned_annotator in assigned_annotators[:limit]:\n",
        "      print(f'Example ID: {assigned_annotator.example_id}, assigned to Annotator: {assigned_annotator.annotator.username}')\n",
        "\n",
        "  def get_task_assignments(self):\n",
        "    session = self._session()\n",
        "    results = sqla.select(\n",
        "      Example.example_id, Example.image, Annotator.username\n",
        "    ).join(Annotator)\n",
        "    return results.all()\n",
        "\n",
        "  def get_partially_assigned_tasks(self):\n",
        "    '''Get tasks that have partially been assigned'''\n",
        "    session = self._session()\n",
        "    partially_labeled_tasks = (\n",
        "      session.query(Example)\n",
        "      .outerjoin(Example.annotations)\n",
        "      .group_by(Example.example_id)\n",
        "      # .having(sqla.func.count(Annotator.id) < self.tasks_configs.max_annotators_per_task)\n",
        "      .all()\n",
        "    )\n",
        "    return partially_labeled_tasks\n",
        "\n",
        "  def add_annotators(self, annotators):\n",
        "    session = self._session()\n",
        "\n",
        "    for annotator_data in annotators:\n",
        "      username = annotator_data.get('username')\n",
        "      email = annotator_data.get('email')\n",
        "\n",
        "      existing_annotator = session.query(Annotator).filter_by(username=username).first()\n",
        "\n",
        "      if existing_annotator is None:\n",
        "        annotator = Annotator(username=username, email=email)\n",
        "        try:\n",
        "          session.add(annotator)\n",
        "          session.commit()\n",
        "          logging.info(f\"Added new annotator '{username}'\")\n",
        "        except Exception as e:\n",
        "          session.rollback()\n",
        "          logging.error(f\"Error adding annotator '{username}': {e}\")\n",
        "      else:\n",
        "        logging.warning(f\"Annotator with username '{username}' already exists\")\n",
        "\n",
        "  def remove_annotator(self, username, email=None):\n",
        "    session = self._session()\n",
        "    return Annotator.query.filter(Annotator.username == username).delete()\n",
        "\n",
        "  def get_assigned_tasks(self, username):\n",
        "    session = self._session()\n",
        "\n",
        "    results = session.query(Example).\\\n",
        "      join(AssignedAnnotator, Example.example_id == AssignedAnnotator.example_id).\\\n",
        "      join(Annotator, AssignedAnnotator.annotator_id == Annotator.annotator_id).\\\n",
        "      filter(Annotator.username == username).all()\n",
        "\n",
        "    return results\n",
        "\n",
        "  def list_tasks(self, limit=None):\n",
        "    session = self._database_manager.get_session()\n",
        "    results = session.query(Example).all()\n",
        "    limit = limit or len(results)\n",
        "    return results[:limit]\n",
        "\n",
        "  def list_annotators(self):\n",
        "    session = self._session()\n",
        "    return session.query(Annotator).all()\n",
        "\n",
        "  def get_completed_annotations(self):\n",
        "    # Define the select statement with joins\n",
        "    session = self._session()\n",
        "    stmt = (\n",
        "        sqla.select(\n",
        "            Example.example_id.label(\"EXAMPLE ID\"),\n",
        "            Annotation.label.label(\"LABEL\"),\n",
        "            Annotator.username.label(\"ANNOTATOR USERNAME\")\n",
        "        )\n",
        "        .select_from(\n",
        "            sqla.join(Example, Annotation, Example.example_id == Annotation.example_id)\n",
        "            .join(Annotator, Annotation.annotator_id == Annotator.annotator_id)\n",
        "        )\n",
        "        .order_by(Annotator.annotator_id)\n",
        "    )\n",
        "\n",
        "    # Execute the statement\n",
        "    result = session.execute(stmt)\n",
        "\n",
        "    # Print the results\n",
        "    return result\n",
        "\n",
        "  def get_project_configs(self):\n",
        "    session = self._session()\n",
        "    return session.query(ProjectConfigurations).first()\n",
        "\n",
        "  def grant_annotator_access(self, username):\n",
        "    session = self._session()\n",
        "    session.execute(text(f'GRANT SELECT ON ALL TABLES IN SCHEMA public TO {username};'))\n",
        "    session.execute(text(f'GRANT INSERT, UPDATE on annotations TO {username};'))\n",
        "    session.execute(text(f'GRANT USAGE, SELECT ON SEQUENCE annotations_annotation_id_seq TO {username};'))\n",
        "    session.commit()\n",
        "\n",
        "  def create_roles(self, role_name):\n",
        "    session = self._session()\n",
        "    session.execute(text(f\"CREATE ROLE {role_name} WITH LOGIN PASSWORD 'skai_1234';\"))\n",
        "    return session.execute(text('SELECT * FROM pg_roles;')).all()\n",
        "\n",
        "  def rollback_session(self):\n",
        "    session = self._session()\n",
        "    session.rollback()\n"
      ]
    },
    {
      "cell_type": "markdown",
      "metadata": {
        "id": "7CqtN30NY_D7"
      },
      "source": [
        "## Database"
      ]
    },
    {
      "cell_type": "code",
      "execution_count": null,
      "metadata": {
        "cellView": "form",
        "id": "YyfRU1HzZDJn"
      },
      "outputs": [],
      "source": [
        "#@markdown Run this cell\n",
        "\n",
        "Base = declarative_base()\n",
        "\n",
        "class ProjectConfigurations(Base):\n",
        "  __tablename__ = 'project_configurations'\n",
        "\n",
        "  project_id: Mapped[int] = mapped_column(sqla.Integer, primary_key=True, autoincrement=True)\n",
        "  project_title: Mapped[str] = mapped_column(sqla.String(255))\n",
        "  cloud_bucket_name: Mapped[str] = mapped_column(sqla.String(255))\n",
        "  cloud_bucket_prefix: Mapped[str] = mapped_column(sqla.String(255))\n",
        "  comma_separated_labels: Mapped[str] = mapped_column(sqla.String(255))\n",
        "  max_annotation_per_example: Mapped[int] = mapped_column(sqla.Integer)\n",
        "  completion_deadline = mapped_column(sqla.TIMESTAMP, default=lambda : datetime.utcnow().strftime(\"%x\"))\n",
        "  created_at = mapped_column(sqla.TIMESTAMP, default=lambda : datetime.utcnow().strftime(\"%x\"))\n",
        "\n",
        "  def __repr__(self)-> str:\n",
        "    return (f'Project Configurations\\n{\"*\" * 26} \\n' +\n",
        "            f'project title={self.project_title!r}\\n' +\n",
        "            f'cloud_bucket_name={self.cloud_bucket_name!r}\\n' +\n",
        "            f'cloud_bucket_prefix={self.cloud_bucket_prefix!r}\\n' +\n",
        "            f'comma_separated_labels={self.comma_separated_labels!r}\\n' +\n",
        "            f'max_annotation_per_example={self.max_annotation_per_example!r}\\n' +\n",
        "            f'completion_deadline={self.completion_deadline!r}\\n' +\n",
        "            f'project creation date={self.created_at!r}')\n",
        "\n",
        "\n",
        "class Annotator(Base):\n",
        "  __tablename__ = 'annotators'\n",
        "\n",
        "  annotator_id: Mapped[int] = mapped_column(sqla.Integer, primary_key=True,\n",
        "                                            nullable=False, autoincrement=True)\n",
        "  username: Mapped[str] = mapped_column(sqla.String(255))\n",
        "  email: Mapped[str] = mapped_column(sqla.String(255), nullable=True)\n",
        "\n",
        "  annotations = relationship(\"Annotation\", back_populates=\"annotator\")\n",
        "  assigned_annotators = relationship(\"AssignedAnnotator\", back_populates=\"annotator\")\n",
        "\n",
        "  def __repr__(self)-> str:\n",
        "    return (f'Annotator(annotator_id={self.annotator_id!r},' +\n",
        "            f'username={self.username!r}, ' +\n",
        "            f'email={self.email!r}')\n",
        "\n",
        "\n",
        "class Annotation(Base):\n",
        "  __tablename__ = 'annotations'\n",
        "\n",
        "  annotation_id: Mapped[int] = mapped_column(sqla.Integer, primary_key=True, autoincrement=True)\n",
        "  label: Mapped[str] = mapped_column(sqla.String(60), nullable=False)\n",
        "  example_id: Mapped[str] = mapped_column(sqla.String(255), sqla.ForeignKey('examples.example_id'), nullable=False)\n",
        "  example: Mapped['Example'] = relationship(\"Example\", back_populates='annotations')\n",
        "\n",
        "  annotator_id: Mapped[int] = mapped_column(sqla.Integer, sqla.ForeignKey('annotators.annotator_id'), nullable=False)\n",
        "  annotator: Mapped['Annotator'] = relationship(\"Annotator\", back_populates='annotations')\n",
        "\n",
        "  def __repr__(self)-> str:\n",
        "    return (f'Annotation(annotation_id={self.annotation_id!r},' +\n",
        "            f'label={self.label!r}, ' +\n",
        "            f'annotator={reprlib.repr(self.annotator)}')\n",
        "\n",
        "\n",
        "class Example(Base):\n",
        "  __tablename__ = 'examples'\n",
        "\n",
        "  example_id: Mapped[str] = mapped_column(sqla.String(255), nullable=False, primary_key=True)\n",
        "  image: Mapped[str] = mapped_column(sqla.String(255), nullable=False)\n",
        "\n",
        "  annotations: Mapped[List['Annotation']] = relationship(\"Annotation\", back_populates=\"example\")\n",
        "  assigned_annotators: Mapped[List['AssignedAnnotator']] = relationship(\"AssignedAnnotator\", back_populates=\"example\")\n",
        "\n",
        "  def __repr__(self)-> str:\n",
        "    return (f'Example(example_id={self.example_id!r},' +\n",
        "            f'image_filename={self.image!r}, ' +\n",
        "            f'annotations={reprlib.repr(self.annotations)}')\n",
        "\n",
        "\n",
        "class AssignedAnnotator(Base):\n",
        "  __tablename__ = 'assigned_annotators'\n",
        "\n",
        "  assignment_id: Mapped[int] = mapped_column(sqla.Integer, primary_key=True, autoincrement=True)\n",
        "  example_id: Mapped[str] = mapped_column(sqla.String(255), sqla.ForeignKey('examples.example_id'), nullable=False)\n",
        "  annotator_id: Mapped[int] = mapped_column(sqla.Integer, sqla.ForeignKey('annotators.annotator_id'), nullable=False)\n",
        "\n",
        "  example: Mapped['Example'] = relationship(\"Example\", back_populates=\"assigned_annotators\")\n",
        "  annotator: Mapped['Annotator'] = relationship(\"Annotator\", back_populates=\"assigned_annotators\")\n",
        "\n",
        "  def __repr__(self)-> str:\n",
        "    return (f'AssignedAnnotator(assignment_id={self.assignment_id!r}, ' +\n",
        "            f'example_id={self.example_id!r}, ' +\n",
        "            f'annotator_id={self.annotator_id}')"
      ]
    },
    {
      "cell_type": "code",
      "execution_count": null,
      "metadata": {
        "id": "nLsxBsulcSs8"
      },
      "outputs": [],
      "source": [
        "#@title Init Task Manager\n",
        "username='postgres'\n",
        "db_name=database_name\n",
        "instance_connection_name=instance_connection_name\n",
        "task_manager = TaskManager(username, root_password, database_name, instance_connection_name)\n",
        "task_manager.setup()"
      ]
    },
    {
      "cell_type": "code",
      "execution_count": null,
      "metadata": {
        "cellView": "form",
        "id": "gPvUUW1MklCz"
      },
      "outputs": [],
      "source": [
        "#@title Get Project Configs\n",
        "#@markdown Enter Title for Project\n",
        "project_title = \"\" #@param {type: \"string\"}\n",
        "assert project_title, \"Please enter a project title\"\n",
        "\n",
        "#@markdown Specify deadline to complete annotation project\n",
        "completion_deadline = \"2024-05-30\" #@param {type:\"date\"}\n",
        "\n",
        "#@markdown Enter Data Source ie. GCP cloud bucket name\n",
        "bucket_name = \"\" #@param {type: \"string\"}\n",
        "assert bucket_name, \"Please enter data source for project\"\n",
        "\n",
        "#@markdown Enter Data Source Prefix\n",
        "bucket_prefix = \"\" #@param {type: \"string\"}\n",
        "\n",
        "#@markdown Enter the maximum number of annotators to assign to each example\n",
        "max_annotators_per_example = None # @param {type:\"integer\"}"
      ]
    },
    {
      "cell_type": "code",
      "execution_count": null,
      "metadata": {},
      "outputs": [],
      "source": [
        "# Authentication and Permissions\n",
        "def grant_sql_access(user_email, project_id):\n",
        "  !gcloud projects add-iam-policy-binding {project_id} \\\n",
        "    --member=user:{user_email} \\\n",
        "    --role=\"roles/cloudsql.client\"\n",
        "\n",
        "def grant_gcs_access(user_email, bucket_name):\n",
        "  !gsutil iam ch user:{user_email}:objectViewer {bucket_name}\n",
        "\n",
        "grant_sql_project_access = partial(grant_sql_access, project_id=project_id)\n",
        "grant_gcs_bucket_access = partial(grant_gcs_access, bucket_name=bucket_name)\n",
        "\n",
        "def remove_sql_access(user_email, project_id):\n",
        "  !gcloud projects remove-iam-policy-binding {project_id} \\\n",
        "    --member=user:{user_email} \\\n",
        "    --role=\"roles/cloudsql.client\"\n",
        "\n",
        "def remove_gcs_access(user_email, bucket_name):\n",
        "  !gsutil iam ch -d user:{user_email}:objectViewer {bucket_name}\n",
        "\n",
        "remove_sql_project_access = partial(remove_sql_access, project_id=project_id)\n",
        "remove_gcs_bucket_access = partial(remove_gcs_access, bucket_name=bucket_name)"
      ]
    },
    {
      "cell_type": "markdown",
      "metadata": {
        "id": "inYdoWKVUsim"
      },
      "source": [
        "## Label Config\n",
        "\n",
        "Enter labels for classification task as python list.\n",
        "\n",
        "Example:\n",
        "```python\n",
        "labels = ['cat',\n",
        "          'dogs'\n",
        "]\n",
        "```\n",
        "If annotators may skip an example, you may add an additional label such as 'skip'.\n",
        "\n",
        "Example:\n",
        "```python\n",
        "labels = ['cat',\n",
        "          'dogs',\n",
        "          'skip'\n",
        "]\n",
        "```"
      ]
    },
    {
      "cell_type": "code",
      "execution_count": null,
      "metadata": {
        "id": "kJxm0jvPUqpb"
      },
      "outputs": [],
      "source": [
        "labels =  ['']\n",
        "\n",
        "assert labels, \"Please enter labels as python list\"\n",
        "print(\"Labels: \", labels)\n",
        "comma_separated_labels = ','.join(labels)"
      ]
    },
    {
      "cell_type": "code",
      "execution_count": null,
      "metadata": {
        "id": "iUBE4o8dFc2d"
      },
      "outputs": [],
      "source": [
        "#@title Set Project Configs\n",
        "task_manager.set_project_configs(\n",
        "    project_title,\n",
        "    bucket_name,\n",
        "    bucket_prefix,\n",
        "    comma_separated_labels,\n",
        "    max_annotators_per_example,\n",
        "    completion_deadline)\n",
        "\n",
        "# View configs\n",
        "task_manager.get_project_configs()"
      ]
    },
    {
      "cell_type": "markdown",
      "metadata": {
        "id": "Qqf0DCHajjhz"
      },
      "source": [
        "# Add Users to Database"
      ]
    },
    {
      "cell_type": "code",
      "execution_count": null,
      "metadata": {
        "cellView": "form",
        "id": "hWDvIyv0vyNL"
      },
      "outputs": [],
      "source": [
        "#@markdown Please Enter Username and password and click to add\n",
        "\n",
        "def add_user_to_db(input):\n",
        "  assert USERNAME.value, \"Please enter a username to add\"\n",
        "  assert EMAIL.value, \"Please enter a user's email\"\n",
        "  assert PASSWORD.value, \"Please enter user's password\"\n",
        "\n",
        "  !gcloud sql users create {USERNAME.value} \\\n",
        "    --instance={instance_name} \\\n",
        "    --password={PASSWORD.value}\n",
        "  print(f\"Adding User: username {USERNAME.value}, email: {EMAIL.value}\")\n",
        "  task_manager.add_annotators([{'username': USERNAME.value, 'email': EMAIL.value}])\n",
        "  task_manager.grant_annotator_access(USERNAME.value)\n",
        "  grant_sql_project_access(EMAIL.value)\n",
        "  grant_gcs_bucket_access(EMAIL.value)\n",
        "\n",
        "def remove_user_from_db(input):\n",
        "  assert USERNAME.value, \"Please enter a username to add\"\n",
        "  assert EMAIL.value, \"Please enter a user's email\"\n",
        "\n",
        "  !gcloud sql users delete {USERNAME.value} \\\n",
        "    --instance={instance_name}\n",
        "  task_manager.remove_annotator([{'username': USERNAME.value}])\n",
        "  remove_sql_project_access(EMAIL.value)\n",
        "  remove_gcs_bucket_access(EMAIL.value)\n",
        "    \n",
        "USERNAME = widgets.Text(\n",
        "    value=None,\n",
        "    placeholder='username',\n",
        "    description='USER:',\n",
        "    disabled=False\n",
        ")\n",
        "\n",
        "PASSWORD = widgets.Password(\n",
        "    value=None,\n",
        "    placeholder='password',\n",
        "    description='PASSWORD:',\n",
        "    disabled=False\n",
        ")\n",
        "\n",
        "EMAIL = widgets.Text(\n",
        "    value=None,\n",
        "    placeholder='Enter email',\n",
        "    description='EMAIL:',\n",
        "    disabled=False\n",
        ")\n",
        "\n",
        "add_user = widgets.Button(\n",
        "    value=False,\n",
        "    description='Add User',\n",
        "    disabled=False,\n",
        "    button_style='success',\n",
        "    tooltip='Description',\n",
        "    icon='check',\n",
        ")\n",
        "\n",
        "remove_user = widgets.Button(\n",
        "    value=False,\n",
        "    description='Remove User',\n",
        "    disabled=False,\n",
        "    button_style='danger',\n",
        "    tooltip='Description',\n",
        "    icon='check',\n",
        ")\n",
        "\n",
        "add_user.on_click(add_user_to_db)\n",
        "remove_user.on_click(remove_user_from_db)\n",
        "\n",
        "# TODO: Add User button on_click\n",
        "data_box1 = widgets.HBox([USERNAME, PASSWORD, EMAIL])\n",
        "data_box2 = widgets.HBox([add_user, remove_user])\n",
        "display(widgets.VBox([data_box1, data_box2]))"
      ]
    },
    {
      "cell_type": "code",
      "execution_count": null,
      "metadata": {
        "id": "F56oewCRofw1"
      },
      "outputs": [],
      "source": [
        "#@markdown # View list of users added to SQL Instance\n",
        "users = !gcloud sql users list --instance={instance_name} --format=\"value(name)\"\n",
        "print(\"List of Added users: \", users)"
      ]
    },
    {
      "cell_type": "code",
      "execution_count": null,
      "metadata": {
        "id": "IF3a5lPvSCVn"
      },
      "outputs": [],
      "source": [
        "task_manager.list_annotators()"
      ]
    },
    {
      "cell_type": "markdown",
      "metadata": {
        "id": "jL1RIj14jc6A"
      },
      "source": [
        "# Upload Data"
      ]
    },
    {
      "cell_type": "markdown",
      "metadata": {
        "id": "XvSzcjttXvQd"
      },
      "source": [
        "Data to be labeled can be added by reading directly from the GCP bucket path or from a csv file. In former step, the ```task_manager.add_tasks()``` is called with a csv_path name. The csv file should be located in the same bucket as the data."
      ]
    },
    {
      "cell_type": "code",
      "execution_count": null,
      "metadata": {
        "id": "f2FpGQFurcRr"
      },
      "outputs": [],
      "source": [
        "task_manager.add_tasks(bucket_name, bucket_prefix, csv_filename='metadata.csv')"
      ]
    },
    {
      "cell_type": "code",
      "execution_count": null,
      "metadata": {
        "id": "RqdtA_tQsSRC"
      },
      "outputs": [],
      "source": [
        "task_manager.list_tasks(limit=10)"
      ]
    },
    {
      "cell_type": "markdown",
      "metadata": {
        "id": "YXB_A6ovjwdh"
      },
      "source": [
        "# Assign Tasks to Annotators"
      ]
    },
    {
      "cell_type": "code",
      "execution_count": null,
      "metadata": {
        "id": "t2ZJqkAcrFq4"
      },
      "outputs": [],
      "source": [
        "# task_manager.assign_tasks(max_annotators_per_example=max_annotators_per_example)"
      ]
    },
    {
      "cell_type": "markdown",
      "metadata": {
        "id": "sMD7pA292Bw_"
      },
      "source": [
        "# Inspect Task Assignments"
      ]
    },
    {
      "cell_type": "code",
      "execution_count": null,
      "metadata": {
        "id": "AH_wl1Ja2A8X"
      },
      "outputs": [],
      "source": [
        "task_manager.show_assignments()"
      ]
    },
    {
      "cell_type": "markdown",
      "metadata": {
        "id": "sTMJz7nrj7f_"
      },
      "source": [
        "# Export Annotations"
      ]
    },
    {
      "cell_type": "code",
      "execution_count": null,
      "metadata": {
        "id": "4CAxy_lW1e-7"
      },
      "outputs": [],
      "source": [
        "result = task_manager.get_completed_annotations().all()\n",
        "df = pd.DataFrame(result)\n",
        "df"
      ]
    },
    {
      "cell_type": "code",
      "execution_count": null,
      "metadata": {
        "id": "DdBgBzvS8Jra"
      },
      "outputs": [],
      "source": [
        "df.to_csv('annotations.csv')"
      ]
    },
    {
      "cell_type": "markdown",
      "metadata": {
        "id": "O_2NcI5ijsMG"
      },
      "source": [
        "# Delete Data/ Database"
      ]
    },
    {
      "cell_type": "code",
      "execution_count": null,
      "metadata": {
        "id": "2-jd7gesjvRN"
      },
      "outputs": [],
      "source": [
        "# !gcloud sql databases delete {database_name} \\\n",
        "# --instance=instance_name\n",
        "# !gcloud sql instances delete {instance_name}"
      ]
    }
  ],
  "metadata": {
    "colab": {
      "provenance": [],
      "toc_visible": true
    },
    "kernelspec": {
      "display_name": "Python 3",
      "name": "python3"
    },
    "language_info": {
      "codemirror_mode": {
        "name": "ipython",
        "version": 3
      },
      "file_extension": ".py",
      "mimetype": "text/x-python",
      "name": "python",
      "nbconvert_exporter": "python",
      "pygments_lexer": "ipython3",
      "version": "3.11.7"
    }
  },
  "nbformat": 4,
  "nbformat_minor": 0
}
