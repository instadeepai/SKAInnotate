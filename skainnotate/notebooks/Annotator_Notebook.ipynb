{
  "cells": [
    {
      "cell_type": "markdown",
      "metadata": {},
      "source": [
        "<a target=\"_blank\" href=\"https://colab.research.google.com/github/instadeepai/SKAInnotate/blob/main/Annotator_Notebook.ipynb\">\n",
        "  <img src=\"https://colab.research.google.com/assets/colab-badge.svg\" alt=\"Open In Colab\"/>\n",
        "</a>"
      ]
    },
    {
      "cell_type": "markdown",
      "metadata": {
        "id": "lrSLZum5jCQO"
      },
      "source": [
        "# SKAInnotate - Annotator Notebook"
      ]
    },
    {
      "cell_type": "code",
      "execution_count": null,
      "metadata": {
        "id": "ySqpBEQwKpSF"
      },
      "outputs": [],
      "source": [
        "#@title Install Cloud SQL connector\n",
        "import sys\n",
        "!{sys.executable} -m pip install -q cloud-sql-python-connector[\"pg8000\"]"
      ]
    },
    {
      "cell_type": "code",
      "execution_count": null,
      "metadata": {
        "cellView": "form",
        "id": "hhR5hh4Hi7Xy"
      },
      "outputs": [],
      "source": [
        "#@markdown import libraries\n",
        "\n",
        "\n",
        "import os\n",
        "import sys\n",
        "import json\n",
        "import reprlib\n",
        "import logging\n",
        "from typing import List\n",
        "from datetime import datetime\n",
        "from abc import ABC, abstractmethod\n",
        "\n",
        "import ipywidgets as widgets\n",
        "from IPython.display import display\n",
        "\n",
        "from ipywidgets import IntSlider\n",
        "from ipywidgets import FloatSlider\n",
        "from ipywidgets import Button\n",
        "from ipywidgets import RadioButtons\n",
        "from ipywidgets import VBox\n",
        "from ipywidgets import HBox\n",
        "from ipywidgets import interact\n",
        "from PIL import Image\n",
        "import matplotlib.pyplot as plt\n",
        "import matplotlib.image as mpimg\n",
        "\n",
        "import sqlalchemy as sqla\n",
        "from sqlalchemy import create_engine\n",
        "from sqlalchemy.orm import Session\n",
        "from sqlalchemy.orm import mapped_column\n",
        "from sqlalchemy.orm import Mapped\n",
        "from sqlalchemy.orm import relationship\n",
        "from sqlalchemy.orm import declarative_base\n",
        "from sqlalchemy.orm import sessionmaker\n",
        "from sqlalchemy.orm import scoped_session\n",
        "from sqlalchemy.ext.automap import automap_base\n",
        "\n",
        "from google.cloud import storage\n",
        "from google.cloud.sql.connector import Connector"
      ]
    },
    {
      "cell_type": "markdown",
      "metadata": {
        "id": "yj8O2HtWjRXE"
      },
      "source": [
        "## Authenticate to Google Colab"
      ]
    },
    {
      "cell_type": "code",
      "execution_count": null,
      "metadata": {
        "id": "4ItXMpvBdOrr"
      },
      "outputs": [],
      "source": [
        "from google.colab import auth\n",
        "\n",
        "auth.authenticate_user()"
      ]
    },
    {
      "cell_type": "markdown",
      "metadata": {
        "id": "cXznlQzuQzn_"
      },
      "source": [
        "## Setup Google Cloud Project"
      ]
    },
    {
      "cell_type": "code",
      "execution_count": null,
      "metadata": {
        "cellView": "form",
        "id": "fG8xCbGNqbM7"
      },
      "outputs": [],
      "source": [
        "#@markdown Please enter your GCP Project ID\n",
        "project_id = \"\" #@param {type:\"string\"}\n",
        "assert project_id, \"Please enter your Google Project ID to continue\"\n",
        "!gcloud config set project {project_id}"
      ]
    },
    {
      "cell_type": "code",
      "execution_count": null,
      "metadata": {
        "id": "JywC3daOeYbC"
      },
      "outputs": [],
      "source": [
        "#@markdown Get User Account\n",
        "user_account = !gcloud auth list --filter=status:ACTIVE --format=\"value(account)\"\n",
        "print(\"Active User Account: \", user_account[0])"
      ]
    },
    {
      "cell_type": "code",
      "execution_count": null,
      "metadata": {
        "cellView": "form",
        "id": "7PJodGPYIOGd"
      },
      "outputs": [],
      "source": [
        "#@title Connect to Cloud SQL Instance\n",
        "\n",
        "#@markdown Please fill in the both the Google Cloud region and name of your Cloud SQL instance. Once filled in, run the cell.\n",
        "\n",
        "# Please fill in these values.\n",
        "region = \"\" #@param {type:\"string\"}\n",
        "instance_name = \"\" #@param {type:\"string\"}\n",
        "\n",
        "assert region, \"Please enter a Google Cloud region\"\n",
        "assert instance_name, \"Please enter the name of your instance\"\n",
        "\n",
        "# check if Cloud SQL instance exists in the provided region\n",
        "database_version = !gcloud sql instances describe {instance_name} --format=\"value(databaseVersion)\"\n",
        "if database_version[0].startswith(\"POSTGRES\"):\n",
        "  print(\"Existing Postgres Cloud SQL Instance found!\")\n",
        "else:\n",
        "  print(\"No existing Cloud SQL instance found!\")\n"
      ]
    },
    {
      "cell_type": "code",
      "execution_count": null,
      "metadata": {
        "id": "FeBx5tVomi1x"
      },
      "outputs": [],
      "source": [
        "instance_connection_name = f\"{project_id}:{region}:{instance_name}\"\n",
        "print(\"Instance Connection Name: \", instance_connection_name)"
      ]
    },
    {
      "cell_type": "markdown",
      "metadata": {
        "id": "kh4_Q98IjVEP"
      },
      "source": [
        "## Connect to Database"
      ]
    },
    {
      "cell_type": "code",
      "execution_count": null,
      "metadata": {
        "cellView": "form",
        "id": "wsqTVt-kQaEL"
      },
      "outputs": [],
      "source": [
        "#@title Class Templates\n",
        "\n",
        "class DatabaseManager(ABC):\n",
        "  def __init__(self):\n",
        "    self._engine = None\n",
        "    self._session = None\n",
        "\n",
        "  @abstractmethod\n",
        "  def setup(self):\n",
        "    pass\n",
        "\n",
        "  def get_session(self):\n",
        "    return self._session\n",
        "\n",
        "  def get_engine(self):\n",
        "    return self._engine\n",
        "\n",
        "  def close_session(self):\n",
        "    self._session.close()\n",
        "\n",
        "\n",
        "class TaskManager(ABC):\n",
        "  def __init__(self):\n",
        "    pass\n",
        "\n",
        "  def list_tasks(self):\n",
        "    pass"
      ]
    },
    {
      "cell_type": "code",
      "execution_count": null,
      "metadata": {
        "cellView": "form",
        "id": "_qn73Hl-lHVC"
      },
      "outputs": [],
      "source": [
        "#@markdown Run this cell\n",
        "\n",
        "Base = declarative_base()\n",
        "\n",
        "class ProjectConfigurations(Base):\n",
        "  __tablename__ = 'project_configurations'\n",
        "\n",
        "  project_id: Mapped[int] = mapped_column(sqla.Integer, primary_key=True, autoincrement=True)\n",
        "  project_title: Mapped[str] = mapped_column(sqla.String(255))\n",
        "  cloud_bucket_name: Mapped[str] = mapped_column(sqla.String(255))\n",
        "  cloud_bucket_prefix: Mapped[str] = mapped_column(sqla.String(255))\n",
        "  comma_separated_labels: Mapped[str] = mapped_column(sqla.String(255))\n",
        "  max_annotation_per_example: Mapped[int] = mapped_column(sqla.Integer)\n",
        "  completion_deadline = mapped_column(sqla.TIMESTAMP, default=lambda : datetime.utcnow().strftime(\"%x\"))\n",
        "  created_at = mapped_column(sqla.TIMESTAMP, default=lambda : datetime.utcnow().strftime(\"%x\"))\n",
        "\n",
        "  def __repr__(self)-> str:\n",
        "    return (f'Project Configurations\\n{\"*\" * 26} \\n' +\n",
        "            f'project title={self.project_title!r}\\n' +\n",
        "            f'cloud_bucket_name={self.cloud_bucket_name!r}\\n' +\n",
        "            f'cloud_bucket_prefix={self.cloud_bucket_prefix!r}\\n' +\n",
        "            f'comma_separated_labels={self.comma_separated_labels!r}\\n' +\n",
        "            f'max_annotation_per_example={self.max_annotation_per_example!r}\\n' +\n",
        "            f'completion_deadline={self.completion_deadline!r}\\n' +\n",
        "            f'project creation date={self.created_at!r}')\n",
        "\n",
        "\n",
        "class Annotator(Base):\n",
        "  __tablename__ = 'annotators'\n",
        "\n",
        "  annotator_id: Mapped[int] = mapped_column(sqla.Integer, primary_key=True,\n",
        "                                            nullable=False, autoincrement=True)\n",
        "  username: Mapped[str] = mapped_column(sqla.String(255))\n",
        "  email: Mapped[str] = mapped_column(sqla.String(255), nullable=True)\n",
        "\n",
        "  annotations = relationship(\"Annotation\", back_populates=\"annotator\")\n",
        "  assigned_annotators = relationship(\"AssignedAnnotator\", back_populates=\"annotator\")\n",
        "\n",
        "  def __repr__(self)-> str:\n",
        "    return (f'Annotator(annotator_id={self.annotator_id!r},' +\n",
        "            f'username={self.username!r}, ' +\n",
        "            f'email={self.email!r}')\n",
        "\n",
        "\n",
        "class Annotation(Base):\n",
        "  __tablename__ = 'annotations'\n",
        "\n",
        "  annotation_id: Mapped[int] = mapped_column(sqla.Integer, primary_key=True, autoincrement=True)\n",
        "  label: Mapped[str] = mapped_column(sqla.String(60), nullable=False)\n",
        "  example_id: Mapped[str] = mapped_column(sqla.String(255), sqla.ForeignKey('examples.example_id'), nullable=False)\n",
        "  example: Mapped['Example'] = relationship(\"Example\", back_populates='annotations')\n",
        "\n",
        "  annotator_id: Mapped[int] = mapped_column(sqla.Integer, sqla.ForeignKey('annotators.annotator_id'), nullable=False)\n",
        "  annotator: Mapped['Annotator'] = relationship(\"Annotator\", back_populates='annotations')\n",
        "\n",
        "  def __repr__(self)-> str:\n",
        "    return (f'Annotation(annotation_id={self.annotation_id!r},' +\n",
        "            f'label={self.label!r}, ' +\n",
        "            f'annotator={reprlib.repr(self.annotator)}')\n",
        "\n",
        "\n",
        "class Example(Base):\n",
        "  __tablename__ = 'examples'\n",
        "\n",
        "  example_id: Mapped[str] = mapped_column(sqla.String(255), nullable=False, primary_key=True)\n",
        "  image: Mapped[str] = mapped_column(sqla.String(255), nullable=False)\n",
        "\n",
        "  annotations: Mapped[List['Annotation']] = relationship(\"Annotation\", back_populates=\"example\")\n",
        "  assigned_annotators: Mapped[List['AssignedAnnotator']] = relationship(\"AssignedAnnotator\", back_populates=\"example\")\n",
        "\n",
        "  def __repr__(self)-> str:\n",
        "    return (f'Example(example_id={self.example_id!r},' +\n",
        "            f'image_filename={self.image!r}, ' +\n",
        "            f'annotations={reprlib.repr(self.annotations)}')\n",
        "\n",
        "\n",
        "class AssignedAnnotator(Base):\n",
        "  __tablename__ = 'assigned_annotators'\n",
        "\n",
        "  assignment_id: Mapped[int] = mapped_column(sqla.Integer, primary_key=True, autoincrement=True)\n",
        "  example_id: Mapped[str] = mapped_column(sqla.String(255), sqla.ForeignKey('examples.example_id'), nullable=False)\n",
        "  annotator_id: Mapped[int] = mapped_column(sqla.Integer, sqla.ForeignKey('annotators.annotator_id'), nullable=False)\n",
        "\n",
        "  example: Mapped['Example'] = relationship(\"Example\", back_populates=\"assigned_annotators\")\n",
        "  annotator: Mapped['Annotator'] = relationship(\"Annotator\", back_populates=\"assigned_annotators\")\n",
        "\n",
        "  def __repr__(self)-> str:\n",
        "    return (f'AssignedAnnotator(assignment_id={self.assignment_id!r}, ' +\n",
        "            f'example_id={self.example_id!r}, ' +\n",
        "            f'annotator_id={self.annotator_id}')"
      ]
    },
    {
      "cell_type": "code",
      "execution_count": null,
      "metadata": {
        "cellView": "form",
        "id": "4LjXwQbnJha9"
      },
      "outputs": [],
      "source": [
        "#@markdown Database Manager\n",
        "\n",
        "class CloudDatabaseManager(DatabaseManager):\n",
        "  def __init__(self, username: str,\n",
        "               password: str,\n",
        "               db_name: str,\n",
        "               instance_connection_name: str):\n",
        "    super().__init__()\n",
        "    self.username = username\n",
        "    self.password = password\n",
        "    self.db_name = db_name\n",
        "    self.instance_connection_name = instance_connection_name\n",
        "\n",
        "  def setup(self):\n",
        "    try:\n",
        "      connector = Connector()\n",
        "      conn = connector.connect(\n",
        "          self.instance_connection_name,\n",
        "          \"pg8000\",\n",
        "          user=self.username,\n",
        "          password=self.password,\n",
        "          db=self.db_name\n",
        "      )\n",
        "      self._engine = create_engine(\"postgresql+pg8000://\", creator=lambda: conn)\n",
        "      Session = sessionmaker(bind=self._engine)\n",
        "      self._session = scoped_session(Session)\n",
        "      logging.info(\"Database Manager Initialized\")\n",
        "    except Exception as e:\n",
        "      logging.error(f\"Error setting up database: {e}\")\n",
        "\n",
        "\n",
        "\n",
        "class ExternalTaskManager(TaskManager):\n",
        "  def __init__(self,\n",
        "               username: str,\n",
        "               password: str,\n",
        "               db_name: str,\n",
        "               instance_connection_name: str\n",
        "               ):\n",
        "    self.cloud_database_mgr = CloudDatabaseManager(\n",
        "        username=username,\n",
        "        password=password,\n",
        "        db_name=db_name,\n",
        "        instance_connection_name=instance_connection_name\n",
        "      )\n",
        "    self.username = username\n",
        "    self.annotator_id = None\n",
        "\n",
        "  def setup(self):\n",
        "    self.cloud_database_mgr.setup()\n",
        "    self._engine = self.cloud_database_mgr.get_engine()\n",
        "    self._session = self.cloud_database_mgr.get_session()\n",
        "    self.annotator_id = (\n",
        "        self._session.query(Annotator)\n",
        "        .filter_by(username=self.username)\n",
        "        .first()\n",
        "    ).annotator_id\n",
        "\n",
        "  def list_tables(self):\n",
        "    inspector = sqla.inspect(self._engine)\n",
        "    tables = inspector.get_table_names()\n",
        "    return tables\n",
        "\n",
        "  def load_table_by_tablename(self, tablename: str):\n",
        "    Base = automap_base()\n",
        "    Base.prepare(autoload_with=self._engine)\n",
        "    return Base.classes.get(tablename)\n",
        "\n",
        "  def retrieve_assigned_tasks(self):\n",
        "    assigned_examples = (\n",
        "      self._session.query(Example)\n",
        "        .join(AssignedAnnotator, Example.example_id == AssignedAnnotator.example_id)\n",
        "        .join(Annotator, Annotator.annotator_id == AssignedAnnotator.annotator_id)\n",
        "        .filter(Annotator.username == self.username)\n",
        "        .all()\n",
        "      )\n",
        "    return assigned_examples\n",
        "\n",
        "  def get_project_configs(self):\n",
        "    return self._session.query(ProjectConfigurations).first()\n",
        "\n",
        "  def export_annotation(self, example_id=None, image_filename=None, label=None):\n",
        "    session = self._session\n",
        "    assert example_id is not None or image_filename is not None, \"Either example_id or image_filename should be provided\"\n",
        "    assert label is not None, \"No label selected\"\n",
        "    # Check if annotator is assigned to this task\n",
        "    example_id = example_id or session.query(\n",
        "        Example).filter_by(image=image_filename).first().example_id\n",
        "    assignment_query = (\n",
        "        session.query(AssignedAnnotator)\n",
        "        .join(Annotator,\n",
        "              Annotator.annotator_id == AssignedAnnotator.annotator_id)\n",
        "        .filter(AssignedAnnotator.example_id == example_id)\n",
        "        .filter(Annotator.username == self.username)\n",
        "        .first()\n",
        "    )\n",
        "\n",
        "    if assignment_query:\n",
        "      # Update existing annotation if it exists\n",
        "      existing_annotation = (\n",
        "          session.query(Annotation)\n",
        "          .filter_by(example_id=example_id, annotator_id=self.annotator_id)\n",
        "          .first()\n",
        "      )\n",
        "      if existing_annotation:\n",
        "        try:\n",
        "          existing_annotation.label = label\n",
        "          session.commit()\n",
        "          print(f\"Update- example_id: {example_id} label: {label}\")\n",
        "        except Exception as e:\n",
        "          print(\"Error updating annotation:\", e)\n",
        "          session.rollback()\n",
        "      else:\n",
        "        # Write new annotation\n",
        "        try:\n",
        "          new_annotation = Annotation(\n",
        "              example_id=example_id,\n",
        "              label=label,\n",
        "              annotator_id=self.annotator_id\n",
        "          )\n",
        "          session.add(new_annotation)\n",
        "          session.commit()\n",
        "          print(f\"New- example_id: {example_id} label: {label}\")\n",
        "        except Exception as e:\n",
        "          print(\"Error adding new annotation:\", e)\n",
        "          session.rollback()\n",
        "    else:\n",
        "      print(f\"No assignment found for example_id {example_id} and annotator {self.username}\")\n",
        "\n",
        "  def retrieve_annotation(self, example_id=None, image_filename=None):\n",
        "    session = self._session()\n",
        "    assert example_id is not None or image_filename is not None, \"Either example_id or image_filename should be provided\"\n",
        "\n",
        "    # Check if annotator is assigned to this task\n",
        "    example_id = example_id or session.query(\n",
        "        Example).filter_by(image=image_filename).first().example_id\n",
        "    annotation = session.query(Annotation).filter(\n",
        "        Annotation.example_id == example_id, Annotation.annotator_id == self.annotator_id).scalar()\n",
        "    return annotation.label if annotation is not None else None\n"
      ]
    },
    {
      "cell_type": "code",
      "execution_count": null,
      "metadata": {
        "cellView": "form",
        "id": "ySb_nHWF1h13"
      },
      "outputs": [],
      "source": [
        "#@markdown Enter name of Cloud SQL database to connect to\n",
        "database_name = \"\" #@param {type: \"string\"}\n",
        "assert database_name, \"Please enter database name to connect\"\n",
        "\n",
        "#@markdown Enter username to access Cloud SQL Database\n",
        "username = \"\" #@param {type: \"string\"}\n",
        "assert username, \"Please enter a valid username\"\n",
        "\n",
        "#@markdown Enter password to access Cloud SQL Database\n",
        "password = \"\" #@param {type:\"string\"}\n",
        "\n",
        "auth_configs = {'username': username,\n",
        "                'password': password,\n",
        "                'db_name': database_name,\n",
        "                'instance_connection_name': instance_connection_name\n",
        "                }\n",
        "\n",
        "# extern_database_manager = AnnotatorDatabaseManager(**auth_configs)\n",
        "# extern_database_manager.setup()\n",
        "# extern_session = extern_database_manager.get_session()"
      ]
    },
    {
      "cell_type": "markdown",
      "metadata": {
        "id": "UMevl6V3sqKF"
      },
      "source": [
        "## Init Cloud Task Manager"
      ]
    },
    {
      "cell_type": "code",
      "execution_count": null,
      "metadata": {
        "id": "LyZw-joof16J"
      },
      "outputs": [],
      "source": [
        "external_task_mgr = ExternalTaskManager(username, password, database_name, instance_connection_name)\n",
        "external_task_mgr.setup()"
      ]
    },
    {
      "cell_type": "code",
      "execution_count": null,
      "metadata": {
        "id": "Y6scnTh-gGlv"
      },
      "outputs": [],
      "source": [
        "external_task_mgr.list_tables()"
      ]
    },
    {
      "cell_type": "markdown",
      "metadata": {
        "id": "hrk5ZV5tXPt3"
      },
      "source": [
        "## Get Project Configs"
      ]
    },
    {
      "cell_type": "code",
      "execution_count": null,
      "metadata": {
        "id": "hGnL0aM0emIw"
      },
      "outputs": [],
      "source": [
        "project_configs = external_task_mgr.get_project_configs()\n",
        "project_configs"
      ]
    },
    {
      "cell_type": "code",
      "execution_count": null,
      "metadata": {
        "id": "2rfqeWADVgVi"
      },
      "outputs": [],
      "source": [
        "# @title preprocess labels\n",
        "# This should be done in the Admin Notebook\n",
        "def preprocess_labels(labels_string: str):\n",
        "  labels = labels_string.split(\",\")\n",
        "  processed_labels = []\n",
        "\n",
        "  for label in labels:\n",
        "    label = label.strip(\" \")\n",
        "    if label:\n",
        "      processed_labels.append(label)\n",
        "  return processed_labels\n",
        "\n",
        "config_project_labels = preprocess_labels(project_configs.comma_separated_labels)\n",
        "print(\"Labels: \", config_project_labels)"
      ]
    },
    {
      "cell_type": "code",
      "execution_count": null,
      "metadata": {
        "id": "c-m5eElXeMsW"
      },
      "outputs": [],
      "source": [
        "#@title Set Local Project Configs\n",
        "#@markdown Enter local storage path\n",
        "local_images_path = \"images\" #@param {type: \"string\"}\n",
        "assert local_images_path, \"Please enter a local pathname where images to be labeled are stored\""
      ]
    },
    {
      "cell_type": "markdown",
      "metadata": {
        "id": "YXB_A6ovjwdh"
      },
      "source": [
        "## Retrieve Assigned Tasks"
      ]
    },
    {
      "cell_type": "code",
      "execution_count": null,
      "metadata": {
        "id": "1rGdxStpNziR"
      },
      "outputs": [],
      "source": [
        "assigned_examples = external_task_mgr.retrieve_assigned_tasks()"
      ]
    },
    {
      "cell_type": "markdown",
      "metadata": {
        "id": "sMD7pA292Bw_"
      },
      "source": [
        "## Internal Task Manager"
      ]
    },
    {
      "cell_type": "code",
      "execution_count": null,
      "metadata": {
        "cellView": "form",
        "id": "Xn_fkjvjCSpz"
      },
      "outputs": [],
      "source": [
        "#@title Internal Task Manager\n",
        "class InternalTaskManager:\n",
        "  def __init__(self, assigned_examples):\n",
        "    self.assigned_examples = assigned_examples\n",
        "    self._database_manager = None\n",
        "    self.session = None\n",
        "\n",
        "  def init(self):\n",
        "    pass\n",
        "\n",
        "  def download_assigned_images(\n",
        "    self,\n",
        "    bucket_name: str,\n",
        "    bucket_prefix: str,\n",
        "    output_path: str\n",
        "  ) -> None:\n",
        "    print(\"Downloading new examples\")\n",
        "    if not os.path.exists(output_path):\n",
        "      os.makedirs(output_path)\n",
        "\n",
        "    client = storage.Client()\n",
        "    bucket = client.bucket(bucket_name)\n",
        "\n",
        "    for example in self.assigned_examples:\n",
        "      image_filename = example.image\n",
        "      blob = bucket.blob(os.path.join(bucket_prefix, image_filename))\n",
        "      image_filepath = os.path.join(output_path, image_filename)\n",
        "\n",
        "      try:\n",
        "        blob.download_to_filename(image_filepath)\n",
        "        example.image_filename = image_filename\n",
        "      except Exception as e:\n",
        "        print(f\"Error downloading image: {e}\")\n",
        "    print(\"Done!\")"
      ]
    },
    {
      "cell_type": "code",
      "execution_count": null,
      "metadata": {
        "id": "A-d9KD6lz_AL"
      },
      "outputs": [],
      "source": [
        "internal_task_mgr = InternalTaskManager(assigned_examples)\n",
        "internal_task_mgr.init()"
      ]
    },
    {
      "cell_type": "code",
      "execution_count": null,
      "metadata": {
        "id": "Zv89USxQ3iUL"
      },
      "outputs": [],
      "source": [
        "internal_task_mgr.download_assigned_images(project_configs.cloud_bucket_name, project_configs.cloud_bucket_prefix, local_images_path)"
      ]
    },
    {
      "cell_type": "markdown",
      "metadata": {
        "id": "sTMJz7nrj7f_"
      },
      "source": [
        "## Annotations Display UI"
      ]
    },
    {
      "cell_type": "code",
      "execution_count": null,
      "metadata": {
        "cellView": "form",
        "id": "afJh2G07D1T0"
      },
      "outputs": [],
      "source": [
        "#@markdown\n",
        "\n",
        "def update_label(selected_label):\n",
        "  if selected_label['new'] != None:\n",
        "    image_filename = images[image_index.value].split('/')[-1]\n",
        "    external_task_mgr.export_annotation(image_filename=image_filename, label=selected_label['new'])\n",
        "\n",
        "def load_images(local_images_path):\n",
        "    return [f'{local_images_path}/{image}' for image in os.listdir(local_images_path)]\n",
        "\n",
        "def display_image(image_index, size):\n",
        "    image_path = images[image_index]\n",
        "    plt.figure(figsize=(size, size))\n",
        "    image = Image.open(image_path)\n",
        "    plt.imshow(image)\n",
        "    plt.axis('off')\n",
        "    plt.show()\n",
        "\n",
        "def get_current_label(index):\n",
        "  image_filename = images[index].split('/')[-1]\n",
        "  label_radio_buttons.value = external_task_mgr.retrieve_annotation(image_filename=image_filename)\n",
        "\n",
        "def on_next_button_click(b):\n",
        "    if image_index.value < len(images) - 1:\n",
        "        image_index.value += 1\n",
        "\n",
        "def on_previous_button_click(b):\n",
        "    if image_index.value > 0:\n",
        "        image_index.value -= 1\n",
        "\n",
        "def on_image_change(a):\n",
        "  get_current_label(image_index.value)\n",
        "\n",
        "# Define default values and widgets\n",
        "local_images_path = 'images'\n",
        "images = load_images(local_images_path)\n",
        "image_index = IntSlider(min=0, max=len(images)-1, step=1, value=0)\n",
        "size_slider = FloatSlider(value=10.0, min=1.0, max=20.0, step=0.1, description='Image Size:', continuous_update=False)\n",
        "next_button = Button(description=\"Next\")\n",
        "previous_button = Button(description=\"Previous\")\n",
        "label_radio_buttons = RadioButtons(value=None, options=config_project_labels, layout={'width': 'max-content'}, description='String Label: \\n', disabled=False)\n",
        "\n",
        "image_filename = images[0].split('/')[-1]\n",
        "label_radio_buttons.value = external_task_mgr.retrieve_annotation(image_filename=image_filename)\n",
        "\n",
        "# Define widget interactions\n",
        "next_button.on_click(on_next_button_click)\n",
        "previous_button.on_click(on_previous_button_click)\n",
        "label_radio_buttons.observe(update_label, names='value')\n",
        "image_index.observe(on_image_change, names='value')\n",
        "\n",
        "# If label_radio_button changes after clicking next or previous, do not make update\n",
        "# Display UI\n",
        "interact(display_image, image_index=image_index, size=size_slider)\n",
        "navigation_buttons = HBox([previous_button, next_button])\n",
        "ui_elements = HBox([label_radio_buttons, VBox([navigation_buttons])])\n",
        "display(ui_elements)"
      ]
    }
  ],
  "metadata": {
    "colab": {
      "provenance": [],
      "toc_visible": true
    },
    "kernelspec": {
      "display_name": "Python 3",
      "name": "python3"
    },
    "language_info": {
      "name": "python"
    }
  },
  "nbformat": 4,
  "nbformat_minor": 0
}
