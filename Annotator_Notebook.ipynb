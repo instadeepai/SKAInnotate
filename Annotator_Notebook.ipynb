{
  "cells": [
    {
      "cell_type": "markdown",
      "metadata": {
        "id": "lrSLZum5jCQO"
      },
      "source": [
        "# Setup Notebook"
      ]
    },
    {
      "cell_type": "code",
      "execution_count": null,
      "metadata": {
        "id": "hhR5hh4Hi7Xy",
        "cellView": "form"
      },
      "outputs": [],
      "source": [
        "#@markdown import libraries\n",
        "import os\n",
        "import sys\n",
        "import json\n",
        "import logging\n",
        "from typing import List\n",
        "import ipywidgets as widgets\n",
        "from IPython.display import display\n",
        "import matplotlib.pyplot as plt\n",
        "import matplotlib.image as mpimg\n",
        "\n",
        "import sqlalchemy as sqla\n",
        "from sqlalchemy import create_engine\n",
        "from sqlalchemy.orm import Session\n",
        "from sqlalchemy.ext.automap import automap_base"
      ]
    },
    {
      "cell_type": "markdown",
      "metadata": {
        "id": "yj8O2HtWjRXE"
      },
      "source": [
        "# Setup Cloud Database"
      ]
    },
    {
      "cell_type": "code",
      "execution_count": null,
      "metadata": {
        "id": "4ItXMpvBdOrr"
      },
      "outputs": [],
      "source": [
        "from google.colab import auth\n",
        "\n",
        "auth.authenticate_user()"
      ]
    },
    {
      "cell_type": "markdown",
      "metadata": {
        "id": "cXznlQzuQzn_"
      },
      "source": [
        "# Setup Google Cloud Project"
      ]
    },
    {
      "cell_type": "code",
      "execution_count": null,
      "metadata": {
        "id": "fG8xCbGNqbM7",
        "cellView": "form"
      },
      "outputs": [],
      "source": [
        "#@markdown Please enter your GCP Project ID\n",
        "project_id = \"\" #@param {type:\"string\"}\n",
        "assert project_id, \"Please enter your Google Project ID to continue\"\n",
        "!gcloud config set project {project_id}"
      ]
    },
    {
      "cell_type": "code",
      "execution_count": null,
      "metadata": {
        "id": "JywC3daOeYbC"
      },
      "outputs": [],
      "source": [
        "# @markdown Set IAM policy binding\n",
        "user_account = !gcloud auth list --filter=status:ACTIVE --format=\"value(account)\"\n",
        "print(\"Active User Account: \", user_account[0])\n",
        "\n",
        "out = !gcloud projects add-iam-policy-binding {project_id} \\\n",
        "  --member=user:{user_account[0]} \\\n",
        "  --role=\"roles/cloudsql.client\""
      ]
    },
    {
      "cell_type": "code",
      "execution_count": null,
      "metadata": {
        "id": "7PJodGPYIOGd",
        "cellView": "form"
      },
      "outputs": [],
      "source": [
        "#@title Connect to Cloud SQL Instance\n",
        "\n",
        "#@markdown Please fill in the both the Google Cloud region and name of your Cloud SQL instance. Once filled in, run the cell.\n",
        "\n",
        "# Please fill in these values.\n",
        "region = \"us-central1\" #@param {type:\"string\"}\n",
        "instance_name = \"\" #@param {type:\"string\"}\n",
        "\n",
        "assert region, \"Please enter a Google Cloud region\"\n",
        "assert instance_name, \"Please enter the name of your instance\"\n",
        "\n",
        "# check if Cloud SQL instance exists in the provided region\n",
        "database_version = !gcloud sql instances describe {instance_name} --format=\"value(databaseVersion)\"\n",
        "if database_version[0].startswith(\"POSTGRES\"):\n",
        "  print(\"Existing Postgres Cloud SQL Instance found!\")\n",
        "else:\n",
        "  print(\"No existing Cloud SQL instance found!\")\n"
      ]
    },
    {
      "cell_type": "code",
      "execution_count": null,
      "metadata": {
        "id": "FeBx5tVomi1x"
      },
      "outputs": [],
      "source": [
        "instance_connection_name = f\"{project_id}:{region}:{instance_name}\"\n",
        "print(\"Instance Connection Name: \", instance_connection_name)"
      ]
    },
    {
      "cell_type": "markdown",
      "metadata": {
        "id": "kh4_Q98IjVEP"
      },
      "source": [
        "# Connect to Database"
      ]
    },
    {
      "cell_type": "code",
      "execution_count": null,
      "metadata": {
        "id": "ySqpBEQwKpSF"
      },
      "outputs": [],
      "source": [
        "#@title Install Cloud SQL connector\n",
        "!{sys.executable} -m pip install -q cloud-sql-python-connector[\"pg8000\"]"
      ]
    },
    {
      "cell_type": "code",
      "source": [
        "#@title Class Templates\n",
        "from abc import ABC, abstractmethod\n",
        "\n",
        "class DatabaseManager(ABC):\n",
        "  def __init__(self):\n",
        "    self._engine = None\n",
        "    self._session = None\n",
        "\n",
        "  @abstractmethod\n",
        "  def setup(self):\n",
        "    pass\n",
        "\n",
        "  def get_session(self):\n",
        "    return self._session\n",
        "\n",
        "  def get_engine(self):\n",
        "    return self._engine\n",
        "\n",
        "  def close_session(self):\n",
        "    self._session.close()\n",
        "\n",
        "\n",
        "class TaskManager(ABC):\n",
        "  def __init__(self):\n",
        "    pass\n",
        "\n",
        "  def list_tasks(self):\n",
        "    pass"
      ],
      "metadata": {
        "cellView": "form",
        "id": "wsqTVt-kQaEL"
      },
      "execution_count": null,
      "outputs": []
    },
    {
      "cell_type": "code",
      "source": [
        "#@title Cloud SQL Database\n",
        "#@markdown Run this cell\n",
        "import reprlib\n",
        "from datetime import datetime\n",
        "from typing import List\n",
        "import sqlalchemy as sqla\n",
        "from sqlalchemy.orm import mapped_column\n",
        "from sqlalchemy.orm import Mapped\n",
        "from sqlalchemy.orm import relationship\n",
        "from sqlalchemy.orm import declarative_base\n",
        "\n",
        "Base = declarative_base()\n",
        "\n",
        "class ProjectConfigurations(Base):\n",
        "  __tablename__ = 'project_configurations'\n",
        "\n",
        "  project_id: Mapped[int] = mapped_column(sqla.Integer, primary_key=True, autoincrement=True)\n",
        "  project_title: Mapped[str] = mapped_column(sqla.String(255))\n",
        "  cloud_bucket_name: Mapped[str] = mapped_column(sqla.String(255))\n",
        "  cloud_bucket_prefix: Mapped[str] = mapped_column(sqla.String(255))\n",
        "  comma_separated_labels: Mapped[str] = mapped_column(sqla.String(255))\n",
        "  max_annotation_per_example: Mapped[int] = mapped_column(sqla.Integer)\n",
        "  completion_deadline = mapped_column(sqla.TIMESTAMP, default=datetime.utcnow)\n",
        "  created_at = mapped_column(sqla.TIMESTAMP, default=datetime.utcnow)\n",
        "\n",
        "  def __repr__(self)-> str:\n",
        "    return (f'Project Configurations\\n{\"*\" * 26} \\n' +\n",
        "            # f'project_id={self.project_id!r}\\n' +\n",
        "            f'project title={self.project_title!r}\\n' +\n",
        "            f'cloud_bucket_name={self.cloud_bucket_name!r}\\n' +\n",
        "            f'cloud_bucket_prefix={self.cloud_bucket_prefix!r}\\n' +\n",
        "            f'comma_separated_labels={self.comma_separated_labels!r}\\n' +\n",
        "            f'max_annotation_per_example={self.max_annotation_per_example!r}\\n' +\n",
        "            f'completion_deadline={self.completion_deadline!r}\\n' +\n",
        "            f'project creation date={self.created_at!r}')\n",
        "\n",
        "\n",
        "class Annotator(Base):\n",
        "  __tablename__ = 'annotators'\n",
        "\n",
        "  annotator_id: Mapped[int] = mapped_column(sqla.Integer, primary_key=True,\n",
        "                                            nullable=False, autoincrement=True)\n",
        "  username: Mapped[str] = mapped_column(sqla.String(255))\n",
        "  email: Mapped[str] = mapped_column(sqla.String(255), nullable=True)\n",
        "\n",
        "  annotations = relationship(\"Annotation\", back_populates=\"annotator\")\n",
        "  assigned_annotators = relationship(\"AssignedAnnotator\", back_populates=\"annotator\")\n",
        "\n",
        "  def __repr__(self)-> str:\n",
        "    return (f'Annotator(annotator_id={self.annotator_id!r},' +\n",
        "            f'username={self.username!r}, ' +\n",
        "            f'email={self.email!r}')\n",
        "\n",
        "\n",
        "class Annotation(Base):\n",
        "  __tablename__ = 'annotations'\n",
        "\n",
        "  annotation_id: Mapped[int] = mapped_column(sqla.Integer, primary_key=True, autoincrement=True)\n",
        "  label: Mapped[str] = mapped_column(sqla.String(60), nullable=False)\n",
        "  example_id: Mapped[str] = mapped_column(sqla.String(255), sqla.ForeignKey('examples.example_id'), nullable=False)\n",
        "  example: Mapped['Example'] = relationship(\"Example\", back_populates='annotations')\n",
        "\n",
        "  annotator_id: Mapped[int] = mapped_column(sqla.Integer, sqla.ForeignKey('annotators.annotator_id'), nullable=False)\n",
        "  annotator: Mapped['Annotator'] = relationship(\"Annotator\", back_populates='annotations')\n",
        "\n",
        "  def __repr__(self)-> str:\n",
        "    return (f'Annotation(annotation_id={self.annotation_id!r},' +\n",
        "            f'label={self.label!r}, ' +\n",
        "            f'annotator={reprlib.repr(self.annotator)}')\n",
        "\n",
        "\n",
        "class Example(Base):\n",
        "  __tablename__ = 'examples'\n",
        "\n",
        "  example_id: Mapped[str] = mapped_column(sqla.String(255), nullable=False, primary_key=True)\n",
        "  image_path: Mapped[str] = mapped_column(sqla.String(255), nullable=False)\n",
        "\n",
        "  annotations: Mapped[List['Annotation']] = relationship(\"Annotation\", back_populates=\"example\")\n",
        "  assigned_annotators: Mapped[List['AssignedAnnotator']] = relationship(\"AssignedAnnotator\", back_populates=\"example\")\n",
        "\n",
        "  def __repr__(self)-> str:\n",
        "    return (f'Example(example_id={self.example_id!r},' +\n",
        "            f'image_path={self.image_path!r}, ' +\n",
        "            f'annotations={reprlib.repr(self.annotations)}')\n",
        "\n",
        "\n",
        "class AssignedAnnotator(Base):\n",
        "  __tablename__ = 'assigned_annotators'\n",
        "\n",
        "  assignment_id: Mapped[int] = mapped_column(sqla.Integer, primary_key=True, autoincrement=True)\n",
        "  example_id: Mapped[str] = mapped_column(sqla.String(255), sqla.ForeignKey('examples.example_id'), nullable=False)\n",
        "  annotator_id: Mapped[int] = mapped_column(sqla.Integer, sqla.ForeignKey('annotators.annotator_id'), nullable=False)\n",
        "\n",
        "  example: Mapped['Example'] = relationship(\"Example\", back_populates=\"assigned_annotators\")\n",
        "  annotator: Mapped['Annotator'] = relationship(\"Annotator\", back_populates=\"assigned_annotators\")\n",
        "\n",
        "  def __repr__(self)-> str:\n",
        "    return (f'AssignedAnnotator(assignment_id={self.assignment_id!r}, ' +\n",
        "            f'example_id={self.example_id!r}, ' +\n",
        "            f'annotator_id={self.annotator_id}')"
      ],
      "metadata": {
        "cellView": "form",
        "id": "_qn73Hl-lHVC"
      },
      "execution_count": null,
      "outputs": []
    },
    {
      "cell_type": "code",
      "source": [
        "#@markdown Database Manager\n",
        "import logging\n",
        "from sqlalchemy import create_engine, exc, inspect\n",
        "from sqlalchemy.orm import sessionmaker, scoped_session\n",
        "from google.cloud.sql.connector import Connector\n",
        "\n",
        "class CloudDatabaseManager(DatabaseManager):\n",
        "  def __init__(self, username: str,\n",
        "               password: str,\n",
        "               db_name: str,\n",
        "               instance_connection_name: str):\n",
        "    super().__init__()\n",
        "    self.username = username\n",
        "    self.password = password\n",
        "    self.db_name = db_name\n",
        "    self.instance_connection_name = instance_connection_name\n",
        "\n",
        "  def setup(self):\n",
        "    try:\n",
        "      connector = Connector()\n",
        "      conn = connector.connect(\n",
        "          self.instance_connection_name,\n",
        "          \"pg8000\",\n",
        "          user=self.username,\n",
        "          password=self.password,\n",
        "          db=self.db_name\n",
        "      )\n",
        "      self._engine = create_engine(\"postgresql+pg8000://\", creator=lambda: conn)\n",
        "      Session = sessionmaker(bind=self._engine)\n",
        "      self._session = scoped_session(Session)\n",
        "      logging.info(\"Database Manager Initialized\")\n",
        "    except Exception as e:\n",
        "      logging.error(f\"Error setting up database: {e}\")\n",
        "\n",
        "\n",
        "\n",
        "class ExternalTaskManager(TaskManager):\n",
        "  def __init__(self,\n",
        "               username: str,\n",
        "               password: str,\n",
        "               db_name: str,\n",
        "               instance_connection_name: str\n",
        "               ):\n",
        "    self.cloud_database_mgr = CloudDatabaseManager(\n",
        "        username=username,\n",
        "        password=password,\n",
        "        db_name=db_name,\n",
        "        instance_connection_name=instance_connection_name\n",
        "      )\n",
        "    self.username = username\n",
        "    self.annotator_id = None\n",
        "\n",
        "  def setup(self):\n",
        "    self.cloud_database_mgr.setup()\n",
        "    self._engine = self.cloud_database_mgr.get_engine()\n",
        "    self._session = self.cloud_database_mgr.get_session()\n",
        "    self.annotator_id = (\n",
        "        self._session.query(Annotator)\n",
        "        .filter_by(username=self.username)\n",
        "        .first()\n",
        "    ).annotator_id\n",
        "\n",
        "  def list_tables(self):\n",
        "    inspector = inspect(self._engine)\n",
        "    tables = inspector.get_table_names()\n",
        "    return tables\n",
        "\n",
        "  def load_table_by_tablename(self, tablename: str):\n",
        "    Base = automap_base()\n",
        "    Base.prepare(autoload_with=self._engine)\n",
        "    return Base.classes.get(tablename)\n",
        "\n",
        "  def retrieve_assigned_tasks(self):\n",
        "    assigned_examples = (\n",
        "      self._session.query(Example)\n",
        "        .join(AssignedAnnotator, Example.example_id == AssignedAnnotator.example_id)\n",
        "        .join(Annotator, Annotator.annotator_id == AssignedAnnotator.annotator_id)\n",
        "        .filter(Annotator.username == self.username)\n",
        "        .all()\n",
        "      )\n",
        "    return assigned_examples\n",
        "\n",
        "  def get_project_configs(self):\n",
        "    return self._session.query(ProjectConfigurations).first()\n",
        "\n",
        "  def export_annotation(self, example_id, label):\n",
        "    session = self._session\n",
        "\n",
        "    # Check if annotator is assigned to this task\n",
        "    assignment_query = (\n",
        "        session.query(AssignedAnnotator)\n",
        "        .join(Annotator,\n",
        "              Annotator.annotator_id == AssignedAnnotator.annotator_id)\n",
        "        .filter(AssignedAnnotator.example_id == example_id)\n",
        "        .filter(Annotator.username == self.username)\n",
        "        .first()\n",
        "    )\n",
        "\n",
        "    if assignment_query:\n",
        "      # Update existing annotation if it exists\n",
        "      existing_annotation = (\n",
        "          session.query(Annotation)\n",
        "          .filter_by(example_id=example_id, annotator_id=self.annotator_id)\n",
        "          .first()\n",
        "      )\n",
        "      if existing_annotation:\n",
        "        try:\n",
        "          existing_annotation.label = label\n",
        "          session.commit()\n",
        "          print(f\"Update- example_id: {example_id} label: {label}\")\n",
        "        except Exception as e:\n",
        "          print(\"Error updating annotation:\", e)\n",
        "          session.rollback()\n",
        "      else:\n",
        "        # Write new annotation\n",
        "        try:\n",
        "          new_annotation = Annotation(\n",
        "              example_id=example_id,\n",
        "              label=label,\n",
        "              annotator_id=self.annotator_id\n",
        "          )\n",
        "          session.add(new_annotation)\n",
        "          session.commit()\n",
        "          print(f\"New- example_id: {example_id} label: {label}\")\n",
        "        except Exception as e:\n",
        "          print(\"Error adding new annotation:\", e)\n",
        "          session.rollback()\n",
        "    else:\n",
        "      print(f\"No assignment found for example_id {example_id} and annotator {self.username}\")\n",
        "\n",
        "  def retrieve_annotation(self, example_id):\n",
        "    session = self._session()\n",
        "    annotation = session.query(Annotation).filter(\n",
        "        Annotation.example_id == example_id, Annotation.annotator_id == self.annotator_id).scalar()\n",
        "    return annotation.label if annotation is not None else None\n"
      ],
      "metadata": {
        "cellView": "form",
        "id": "4LjXwQbnJha9"
      },
      "execution_count": null,
      "outputs": []
    },
    {
      "cell_type": "code",
      "execution_count": null,
      "metadata": {
        "id": "ySb_nHWF1h13",
        "cellView": "form"
      },
      "outputs": [],
      "source": [
        "#@markdown Enter name of Cloud SQL database to connect to\n",
        "database_name = \"\" #@param {type: \"string\"}\n",
        "assert database_name, \"Please enter database name to connect\"\n",
        "\n",
        "#@markdown Enter username to access Cloud SQL Database\n",
        "username = \"\" #@param {type: \"string\"}\n",
        "assert username, \"Please enter a valid username\"\n",
        "\n",
        "#@markdown Enter password to access Cloud SQL Database\n",
        "password = \"\" #@param {type:\"string\"}\n",
        "\n",
        "auth_configs = {'username': username,\n",
        "                'password': password,\n",
        "                'db_name': database_name,\n",
        "                'instance_connection_name': instance_connection_name\n",
        "                }\n",
        "\n",
        "# extern_database_manager = AnnotatorDatabaseManager(**auth_configs)\n",
        "# extern_database_manager.setup()\n",
        "# extern_session = extern_database_manager.get_session()"
      ]
    },
    {
      "cell_type": "markdown",
      "source": [
        "## Init Cloud Task Manager"
      ],
      "metadata": {
        "id": "UMevl6V3sqKF"
      }
    },
    {
      "cell_type": "code",
      "source": [
        "external_task_mgr = ExternalTaskManager(username, password, database_name, instance_connection_name)\n",
        "external_task_mgr.setup()"
      ],
      "metadata": {
        "id": "LyZw-joof16J"
      },
      "execution_count": null,
      "outputs": []
    },
    {
      "cell_type": "code",
      "source": [
        "external_task_mgr.list_tables()"
      ],
      "metadata": {
        "id": "Y6scnTh-gGlv"
      },
      "execution_count": null,
      "outputs": []
    },
    {
      "cell_type": "markdown",
      "metadata": {
        "id": "hrk5ZV5tXPt3"
      },
      "source": [
        "# Get Project Configs"
      ]
    },
    {
      "cell_type": "code",
      "source": [
        "project_configs = external_task_mgr.get_project_configs()\n",
        "project_configs"
      ],
      "metadata": {
        "id": "hGnL0aM0emIw"
      },
      "execution_count": null,
      "outputs": []
    },
    {
      "cell_type": "code",
      "source": [
        "# @title preprocess labels\n",
        "# This should be done in the Admin Notebook\n",
        "def preprocess_labels(labels_string: str):\n",
        "  labels = labels_string.split(\",\")\n",
        "  processed_labels = []\n",
        "\n",
        "  for label in labels:\n",
        "    label = label.strip(\" \")\n",
        "    if label:\n",
        "      processed_labels.append(label)\n",
        "  return processed_labels\n",
        "\n",
        "config_project_labels = preprocess_labels(project_configs.comma_separated_labels)\n",
        "config_project_labels"
      ],
      "metadata": {
        "id": "2rfqeWADVgVi"
      },
      "execution_count": null,
      "outputs": []
    },
    {
      "cell_type": "code",
      "source": [
        "#@title Set Local Project Configs\n",
        "#@markdown Enter local storage path\n",
        "local_images_path = \"images\" #@param {type: \"string\"}\n",
        "assert local_images_path, \"Please enter a pathname where images to be labeled are stored\""
      ],
      "metadata": {
        "id": "c-m5eElXeMsW",
        "cellView": "form"
      },
      "execution_count": null,
      "outputs": []
    },
    {
      "cell_type": "markdown",
      "metadata": {
        "id": "YXB_A6ovjwdh"
      },
      "source": [
        "## Retrieve Assigned Tasks"
      ]
    },
    {
      "cell_type": "code",
      "source": [
        "assigned_examples = external_task_mgr.retrieve_assigned_tasks()"
      ],
      "metadata": {
        "id": "1rGdxStpNziR"
      },
      "execution_count": null,
      "outputs": []
    },
    {
      "cell_type": "markdown",
      "source": [
        "# Internal Database"
      ],
      "metadata": {
        "id": "kJUK0JnkmA9L"
      }
    },
    {
      "cell_type": "code",
      "source": [
        "#@markdown\n",
        "from sqlalchemy import Column\n",
        "from sqlalchemy import Integer\n",
        "from sqlalchemy import String\n",
        "from sqlalchemy import ForeignKey\n",
        "from sqlalchemy.orm import declarative_base\n",
        "\n",
        "# Define Base class\n",
        "SQLiteBase = declarative_base()\n",
        "\n",
        "class LocalExample(SQLiteBase):\n",
        "  __tablename__ = 'examples_table'\n",
        "\n",
        "  id = Column(Integer, primary_key=True, autoincrement=True)\n",
        "  example_id = Column(String(255), nullable=False, unique=True)\n",
        "  image_path = Column(String(255), nullable=False)\n",
        "  image_filename = Column(String(255), nullable=False)\n",
        "\n",
        "  def __repr__(self) -> str:\n",
        "    return (f'Example(example_id={self.example_id!r},' +\n",
        "            f'image_path={self.image_path!r},' +\n",
        "            f'image_name={self.image_filename!r}'\n",
        "            )"
      ],
      "metadata": {
        "id": "tNyV94pDmEdR",
        "cellView": "form"
      },
      "execution_count": null,
      "outputs": []
    },
    {
      "cell_type": "markdown",
      "source": [
        "# Internal Database Manager\n"
      ],
      "metadata": {
        "id": "EDhta_3OmUzl"
      }
    },
    {
      "cell_type": "code",
      "source": [
        "#@markdown\n",
        "from typing import List\n",
        "import sqlalchemy as sqla\n",
        "from sqlalchemy.orm import sessionmaker, scoped_session\n",
        "from sqlalchemy.orm import declarative_base\n",
        "\n",
        "class InternalDatabaseManager(DatabaseManager):\n",
        "  def __init__(self, db_path: str, **kwargs: dict) -> None:\n",
        "    super().__init__()\n",
        "    self.db_path = db_path\n",
        "    self.kwargs = kwargs\n",
        "    self._engine = None\n",
        "    self._session = None\n",
        "\n",
        "  def setup(self) -> None:\n",
        "    \"\"\"Initialize the database.\"\"\"\n",
        "    self._engine = sqla.create_engine(f'sqlite:///{self.db_path}', **self.kwargs)\n",
        "    SQLiteBase.metadata.bind = self._engine\n",
        "    SQLiteBase.metadata.create_all(self._engine)\n",
        "\n",
        "    session_factory = sessionmaker(autocommit=False, autoflush=False, bind=self._engine)\n",
        "    self._session = scoped_session(session_factory)\n",
        "\n",
        "    SQLiteBase.query = self._session.query_property()\n",
        "    print(\"Database Manager Initialized\")\n",
        "\n",
        "  def status(self) -> None:\n",
        "    \"\"\"Check Database Status.\"\"\"\n",
        "    if self._engine is None:\n",
        "        raise ValueError(\"Database Manager not initialized.\")\n",
        "\n",
        "  def drop_db(self) -> None:\n",
        "    \"\"\"Drop the database.\"\"\"\n",
        "    engine = self._engine\n",
        "    SQLiteBase.metadata.drop_all(engine)\n",
        "\n",
        "  # def get_session(self) -> sqla.orm.session.Session:\n",
        "  #   \"\"\"Get the database session.\"\"\"\n",
        "  #   return self._session"
      ],
      "metadata": {
        "id": "RUGgk5uLmX99",
        "cellView": "form"
      },
      "execution_count": null,
      "outputs": []
    },
    {
      "cell_type": "markdown",
      "metadata": {
        "id": "sMD7pA292Bw_"
      },
      "source": [
        "# Internal Task Manager"
      ]
    },
    {
      "cell_type": "code",
      "execution_count": null,
      "metadata": {
        "id": "AH_wl1Ja2A8X",
        "cellView": "form"
      },
      "outputs": [],
      "source": [
        "#@markdown\n",
        "from google.cloud import storage\n",
        "class InternalTaskManager:\n",
        "  def __init__(self, assigned_examples, db_configs):\n",
        "    self.assigned_examples = assigned_examples\n",
        "    self.db_configs = db_configs\n",
        "    self._database_manager = None\n",
        "    self.session = None\n",
        "\n",
        "  def init(self):\n",
        "    self._database_manager = InternalDatabaseManager(**self.db_configs)\n",
        "    self._database_manager.setup()\n",
        "\n",
        "  def get_session(self):\n",
        "    return self._database_manager.get_session()\n",
        "\n",
        "  def get_remote_image_paths(self):\n",
        "    return [example.image_path for example in self.assigned_examples]\n",
        "\n",
        "  def download_assigned_images(\n",
        "    self,\n",
        "    bucket_name: str,\n",
        "    bucket_prefix: str,\n",
        "    output_path: str\n",
        "  ) -> None:\n",
        "    print(\"Downloading new examples\")\n",
        "    if not os.path.exists(output_path):\n",
        "      os.makedirs(output_path)\n",
        "\n",
        "    client = storage.Client()\n",
        "    bucket = client.bucket(bucket_name)\n",
        "\n",
        "    for example in self.assigned_examples:\n",
        "      image_path = example.image_path\n",
        "      image_filename = image_path.split('/')[-1]\n",
        "      blob = bucket.blob(os.path.join(bucket_prefix, image_filename))\n",
        "      image_filepath = os.path.join(output_path, image_filename)\n",
        "\n",
        "      try:\n",
        "        blob.download_to_filename(image_filepath)\n",
        "        example.image_filename = image_filename\n",
        "      except Exception as e:\n",
        "        print(f\"Error downloading image: {e}\")\n",
        "\n",
        "      self.add_example_to_database(example_id=example.example_id,\n",
        "                    image_path=example.image_path,\n",
        "                    image_filename=image_filename\n",
        "                    )\n",
        "    print(\"Done!\")\n",
        "\n",
        "  def get_all_examples(self) -> List[LocalExample]:\n",
        "    \"\"\"Get all examples from the database.\"\"\"\n",
        "    session = self.get_session()\n",
        "    examples = session.query(LocalExample).all()\n",
        "    return examples\n",
        "\n",
        "  def get_labeled_examples(self):\n",
        "    session = self.get_session()\n",
        "    labeled_examples = session.query(LocalExample).where(LocalExample.label != None).all()\n",
        "    return labeled_examples\n",
        "\n",
        "  def get_example_by_id(self, id: int):\n",
        "    \"\"\"Get an example by its ID.\"\"\"\n",
        "    session = self.get_session()\n",
        "    example = session.query(LocalExample).filter(LocalExample.example_id == id).scalar()\n",
        "    return example\n",
        "\n",
        "  def add_example_to_database(self, example_id, image_path, image_filename, label=None) -> None:\n",
        "    \"\"\"Add examples to the database.\"\"\"\n",
        "    session = self.get_session()\n",
        "    existing_example = session.query(LocalExample).filter_by(example_id=str(example_id)).first()\n",
        "\n",
        "    if not existing_example:\n",
        "      example = LocalExample(example_id=example_id, image_path=image_path, image_filename=image_filename)\n",
        "      if label:\n",
        "        example.label = label\n",
        "      session.add(example)\n",
        "    else:\n",
        "      session.rollback()\n",
        "    session.commit()\n",
        "\n",
        "  def update_label(self, image_filename, new_label) -> None:\n",
        "    \"\"\"Update the label of an example.\"\"\"\n",
        "    session = self.get_session()\n",
        "    example = session.query(LocalExample).filter(LocalExample.image_filename == image_filename).first()\n",
        "    if example:\n",
        "      example.label = new_label\n",
        "      session.commit()\n",
        "      logging.info(f\"Label updated for Image {image_filename}\")\n",
        "    else:\n",
        "      logging.error(f\"No example found with name {image_filename}\")\n",
        "\n",
        "  def get_label(self, image_filename):\n",
        "    session = self.get_session()\n",
        "    example = session.query(LocalExample).filter(LocalExample.image_filename == image_filename).first()\n",
        "    return example.label if not None else None\n",
        "\n",
        "  def update_example(self, example: LocalExample) -> None:\n",
        "    \"\"\"Update an example.\"\"\"\n",
        "    session = self.get_session()\n",
        "    session.add(example)\n",
        "    session.commit()\n",
        "\n",
        "  def get_example_id_from_filename(self, filename: str):\n",
        "    session = self.get_session()\n",
        "    result=session.query(LocalExample).where(LocalExample.image_filename==filename).first()\n",
        "    return result.example_id\n",
        "\n",
        "  def delete_example(self, example: LocalExample) -> None:\n",
        "    \"\"\"Delete an example.\"\"\"\n",
        "    session = self.get_session()\n",
        "    session.delete(example)\n",
        "    session.commit()"
      ]
    },
    {
      "cell_type": "code",
      "source": [
        "db_configs = {'db_path': 'sqlite.db'}\n",
        "internal_task_mgr = InternalTaskManager(assigned_examples, db_configs)\n",
        "internal_task_mgr.init()"
      ],
      "metadata": {
        "id": "A-d9KD6lz_AL"
      },
      "execution_count": null,
      "outputs": []
    },
    {
      "cell_type": "code",
      "source": [
        "internal_task_mgr.download_assigned_images(project_configs.cloud_bucket_name, project_configs.cloud_bucket_prefix, local_images_path)"
      ],
      "metadata": {
        "id": "Zv89USxQ3iUL"
      },
      "execution_count": null,
      "outputs": []
    },
    {
      "cell_type": "markdown",
      "metadata": {
        "id": "sTMJz7nrj7f_"
      },
      "source": [
        "# Annotations Display UI"
      ]
    },
    {
      "cell_type": "code",
      "source": [
        "#@markdown\n",
        "from ipywidgets import IntSlider\n",
        "from ipywidgets import FloatSlider\n",
        "from ipywidgets import Button\n",
        "from ipywidgets import RadioButtons\n",
        "from ipywidgets import VBox\n",
        "from ipywidgets import HBox\n",
        "from ipywidgets import interact\n",
        "from PIL import Image\n",
        "\n",
        "def update_label(selected_label):\n",
        "  if selected_label['new'] != None:\n",
        "    image_filename = images[image_index.value].split('/')[-1]\n",
        "    internal_task_mgr.update_label(image_filename=image_filename, new_label=selected_label['new'])\n",
        "    example_id = internal_task_mgr.get_example_id_from_filename(image_filename)\n",
        "    external_task_mgr.export_annotation(example_id, selected_label['new'])\n",
        "\n",
        "def load_images(local_images_path):\n",
        "    return [f'{local_images_path}/{image}' for image in os.listdir(local_images_path)]\n",
        "\n",
        "def display_image(image_index, size):\n",
        "    image_path = images[image_index]\n",
        "    plt.figure(figsize=(size, size))\n",
        "    image = Image.open(image_path)\n",
        "    plt.imshow(image)\n",
        "    plt.axis('off')\n",
        "    plt.show()\n",
        "\n",
        "def get_current_label(index):\n",
        "  image_filename = images[index].split('/')[-1]\n",
        "  example_id = internal_task_mgr.get_example_id_from_filename(image_filename)\n",
        "  label_radio_buttons.value = external_task_mgr.retrieve_annotation(example_id)\n",
        "\n",
        "def on_next_button_click(b):\n",
        "    if image_index.value < len(images) - 1:\n",
        "        image_index.value += 1\n",
        "\n",
        "def on_previous_button_click(b):\n",
        "    if image_index.value > 0:\n",
        "        image_index.value -= 1\n",
        "\n",
        "def on_image_change(a):\n",
        "  get_current_label(image_index.value)\n",
        "\n",
        "# Define default values and widgets\n",
        "local_images_path = 'images'\n",
        "images = load_images(local_images_path)\n",
        "image_index = IntSlider(min=0, max=len(images)-1, step=1, value=0)\n",
        "size_slider = FloatSlider(value=10.0, min=1.0, max=20.0, step=0.1, description='Image Size:', continuous_update=False)\n",
        "next_button = Button(description=\"Next\")\n",
        "previous_button = Button(description=\"Previous\")\n",
        "label_radio_buttons = RadioButtons(value=None, options=config_project_labels, layout={'width': 'max-content'}, description='String Label: \\n', disabled=False)\n",
        "\n",
        "image_filename = images[0].split('/')[-1]\n",
        "example_id = internal_task_mgr.get_example_id_from_filename(image_filename)\n",
        "label_radio_buttons.value = external_task_mgr.retrieve_annotation(example_id)\n",
        "\n",
        "# Define widget interactions\n",
        "next_button.on_click(on_next_button_click)\n",
        "previous_button.on_click(on_previous_button_click)\n",
        "label_radio_buttons.observe(update_label, names='value')\n",
        "image_index.observe(on_image_change, names='value')\n",
        "\n",
        "# If label_radio_button changes after clicking next or previous, do not make update\n",
        "# Display UI\n",
        "interact(display_image, image_index=image_index, size=size_slider)\n",
        "navigation_buttons = HBox([previous_button, next_button])\n",
        "ui_elements = HBox([label_radio_buttons, VBox([navigation_buttons])])\n",
        "display(ui_elements)"
      ],
      "metadata": {
        "id": "afJh2G07D1T0",
        "cellView": "form"
      },
      "execution_count": null,
      "outputs": []
    },
    {
      "cell_type": "code",
      "source": [],
      "metadata": {
        "id": "-EaIG_jNCssl"
      },
      "execution_count": null,
      "outputs": []
    }
  ],
  "metadata": {
    "colab": {
      "provenance": []
    },
    "kernelspec": {
      "display_name": "Python 3",
      "name": "python3"
    },
    "language_info": {
      "name": "python"
    }
  },
  "nbformat": 4,
  "nbformat_minor": 0
}